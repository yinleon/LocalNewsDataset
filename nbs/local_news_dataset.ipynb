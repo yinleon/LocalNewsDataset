{
 "cells": [
  {
   "cell_type": "markdown",
   "metadata": {},
   "source": [
    "# The Local News Dataset\n",
    "View this document on [Github](https://github.com/yinleon/LocalNewsDataset/blob/master/nbs/local_news_dataset.ipynb?flush_cache=true) | [NbViewer](https://nbviewer.jupyter.org/github/yinleon/LocalNewsDataset/blob/master/nbs/local_news_dataset.ipynb?flush_cache=true#datasheet)\n",
    "by [Leon Yin](https://www.leonyin.org/)<br>\n",
    "Data scientist SMaPP Lab NYU and affiliate at Data & Society."
   ]
  },
  {
   "cell_type": "markdown",
   "metadata": {},
   "source": [
    "## Table of Contents <a name='top'></a>\n",
    "1. [Introduction](#intro)\n",
    "2. [Tech Specs](#specs)\n",
    "3. [Using the Dataset](#use)"
   ]
  },
  {
   "cell_type": "markdown",
   "metadata": {},
   "source": [
    "# 1. Introduction <a name='intro'></a>\n",
    "Though not particularly a noticeable part of the current discussion, 2018 has shown us that understanding \"fake news\", and the media (manipulation) ecosystem at large, has as much to do with local broadcasting stations as it does Alex Jones and CNN.\n",
    "\n",
    "We saw local news outlets used as a sounding board to decry mainstream media outlets as \"[fake news](https://www.youtube.com/watch?v=khbihkeOISc).\" We also saw Russian trolls masquerade as local news outlets to [build trust](https://www.npr.org/2018/07/12/628085238/russian-influence-campaign-sought-to-exploit-americans-trust-in-local-news) as sleeper accounts on Twitter. \n",
    "\n",
    "To help put the pieces of this disinformation ecosystem into context, we can refer to a 2016 [Pew Study](http://www.journalism.org/2016/07/07/trust-and-accuracy/) on Trust and Accuracy of the Modern Media Consumer which showed that 86% of survey respondents had \"a lot\" or \"some\" confidence in local news. This was more than their confidence of national media outlets, social media, and family and friends.\n",
    "\n",
    "\n",
    "<a href=\"http://www.journalism.org/2016/07/07/the-modern-news-consumer/pj_2016-07-07_modern-news-consumer_2-01/\"><img width=\"420\" height=\"399\" src=\"http://assets.pewresearch.org/wp-content/uploads/sites/13/2016/07/PJ_2016.07.07_Modern-News-Consumer_2-01.png\" class=\"attachment-large size-large\" alt=\"Few have a lot of confidence in information from professional news outlets or friends and family, though majorities show at least some trust in both, but social media garners less trust than either\" /></a>\n",
    "\n",
    "Social media is the least trustworthy news source according to the 4.6K respondents of the Pew study. It's important to note that this study was published before the 2016 US Presidential Election and social media platforms were not under the same scrutiny as they are today. \n",
    "\n",
    "Perhaps the most significant finding in this study is that very few have \"a lot\" of trust in information from professional news outlets. Is this because so called \"fake news\" blurs the line between reputable and false pieces of information? Political scientist Andy Guess has shown that older (60+ yrs old) citizens are more sussceptitble to spreading links containing junk news on Facebook. Yet the mistrust economy is more than the [junk news](https://www.buzzfeednews.com/article/craigsilverman/viral-fake-election-news-outperformed-real-news-on-facebook) sites Craig Silverman analyzed when he first coined \"fake news\" in late 2016. \n",
    "\n",
    "<img src='docs/media/fake_news.png' alt='Few have a lot of confidence in information from professional news outlets or friends and family, though majorities show at least some trust in both, but social media garners less trust than either'/>\n",
    "\n",
    "In 2017, media historian Caroline Jack released a [lexicon](https://datasociety.net/output/lexicon-of-lies/) in an effort to define what was formerly referred to as \"fake news,\" with more nuance. Jack calls this umbrella of deceptive content problematic information.\n",
    "\n",
    "\n",
    "The social media scholar Alice Marwick -- who made some of the first breakthroughs in thie field with [Becca Lewis](https://datasociety.net/output/media-manipulation-and-disinfo-online/), [recently reminded us that](https://www.georgetownlawtechreview.org/why-do-people-share-fake-news-a-sociotechnical-model-of-media-effects/GLTR-07-2018/) problematic information spreads not only through junk news headlines, but also through memes, videos and podcasts. What other mediums are we overlooking? As a hint, we can listen to Marwick and other researchers such as ethnographer [Francesca Tripoldi](https://datasociety.net/output/searching-for-alternative-facts/), who observe that problematic information is deeply connected to one's self-presentation and the reinforcement of group identity. So where does local news fit into this equation?\n",
    "\n",
    "Though local news is widely viewed as a relatively trustworthy news source, its role in the current media and information landscape is not well studied. To better understand that role, I put together the <b>Local News Dataset</b> in the hopes that it will accelerate research of local news across the web.\n",
    "\n",
    "## About the Data Set\n",
    "This dataset is a machine-readable directory of state-level newspapers, TV stations and magazines. In addition to basic information such as the name of the outlet and state it is located in, all available information regarding web presence, social media (Twitter, YouTube, Facebook) and their owners is scraped, too.\n",
    "\n",
    "The sources of this dataset are [usnpl.com](www.usnpl.com)-- newspapers and magazines by state, [stationindex.com](www.stationindex.com) -- TV stations by state and by owner, and homepages of the media corporations [Meredith](http://www.meredith.com/local-media/broadcast-and-digital), [Sinclair](http://sbgi.net/tv-channels/), [Nexstar](https://www.nexstar.tv/stations/), [Tribune](http://www.tribunemedia.com/our-brands/) and [Hearst](http://www.hearst.com/broadcasting/our-markets).\n",
    "\n",
    "This dataset was inspired by ProPublica's [Congress API](https://projects.propublica.org/api-docs/congress-api/). I hope that this dataset will serve a similar purpose as a starting point for research and applications, as well as a bridge between datasets from social media, news articles and online communities.\n",
    "\n",
    "While you use this dataset, if you see irregularities, questionable entries, or missing outlets please [submit an issue](https://github.com/yinleon/LocalNewsDataset/issues/new) on Github or contact me on [Twitter](https://twitter.com/LeonYin). I'd love to hear how this dataset is put to work \n",
    "\n",
    "You can browse the dataset on [Google Sheets](https://docs.google.com/spreadsheets/d/1f3PjT2A7-qY0SHcDW30Bc_FXYC_7RxnZfCKyXpoWeuY/edit?usp=sharing)<br>\n",
    "Or look at the raw dataset on [Github](https://github.com/yinleon/LocalNewsDataset/blob/master/data/local_news_dataset_2018.csv)<br>\n",
    "Or just scroll down to the [tech specs](#local_news_dataset_2018)!\n",
    "\n",
    "Happy hunting!\n",
    "\n",
    "## Acknowledgements\n",
    "I'd like to acknowledge the work of the people behind usnpl.com and stationindex.com for compiling lists of local media outlets.\n",
    "Andreu Casas and Gregory Eady provided invaluable comments to improve this dataset for public release. Kinjal Dave provided much needed proofreading. The dataset was created by Leon Yin at the SMaPP Lab at NYU. Thank you Josh Tucker, Jonathan Nagler, Richard Bonneau and my collegue Nicole Baram.\n",
    "\n",
    "\n",
    "## Citation\n",
    "If this dataset is helpful to you please cite it as:\n",
    "```\n",
    "@misc{leon_yin_2018_1345145,\n",
    "  author       = {Leon Yin},\n",
    "  title        = {Local News Dataset},\n",
    "  month        = aug,\n",
    "  year         = 2018,\n",
    "  doi          = {10.5281/zenodo.1345145},\n",
    "  url          = {https://doi.org/10.5281/zenodo.1345145}\n",
    "}\n",
    "\n",
    "```\n",
    "\n",
    "## License\n",
    "This data is free to use, but please follow the ProPublica [Terms](#terms).\n",
    "\n",
    "<hr>"
   ]
  },
  {
   "cell_type": "markdown",
   "metadata": {},
   "source": [
    "# 2.Tech Specs <a name='specs'></a>\n",
    "This section is an in-depth look at what is scraped from the web and how these pieces of disparate Internet matter come together to form the [Local News Dataset](https://github.com/yinleon/LocalNewsDataset).\n",
    "\n",
    "<i>For those who tinker...</i><br>\n",
    "The intermediates can be generated and updated:<br>\n",
    "```>>> python download_data.py```<br>\n",
    "The output file is created from merging and pre-processing the intermediates:<br>\n",
    "```>>> python merge.py``` <br>\n",
    "These [two scripts](https://github.com/yinleon/LocalNewsDataset/tree/master/py) -- and this notebook, is written in Python 3.6.5 using open sources packages listed in in [requirements.txt](https://github.com/yinleon/LocalNewsDataset/blob/master/requirements.txt).\n",
    "\n",
    "[Top of Notebook](#top)"
   ]
  },
  {
   "cell_type": "code",
   "execution_count": 5,
   "metadata": {},
   "outputs": [
    {
     "name": "stdout",
     "output_type": "stream",
     "text": [
      "Updated 2021-03-01 13:52:58.404335\n",
      "By Leon\n",
      "Using Python 3.9.1\n",
      "On macOS-10.14.6-x86_64-i386-64bit\n"
     ]
    },
    {
     "data": {
      "text/markdown": [
       "## Inventory\n"
      ],
      "text/plain": [
       "<IPython.core.display.Markdown object>"
      ]
     },
     "metadata": {},
     "output_type": "display_data"
    },
    {
     "data": {
      "text/markdown": [
       "### Intermediates \n",
       " - [sinclair.tsv](#sinclair)\n",
       " - [meredith.tsv](#meredith)\n",
       " - [nexstar.tsv](#nexstar)\n",
       " - [hearst.tsv](#hearst)\n",
       " - [tribune.tsv](#tribune)\n",
       " - [station_index.tsv](#station_index)\n",
       " - [usnpl.tsv](#usnpl)\n",
       "\n",
       "    \n",
       "### Outputs\n",
       "- [local_news_dataset_2018.csv](#local_news_dataset_2018)"
      ],
      "text/plain": [
       "<IPython.core.display.Markdown object>"
      ]
     },
     "metadata": {},
     "output_type": "display_data"
    },
    {
     "data": {
      "text/markdown": [
       "<hr>"
      ],
      "text/plain": [
       "<IPython.core.display.Markdown object>"
      ]
     },
     "metadata": {},
     "output_type": "display_data"
    },
    {
     "data": {
      "text/markdown": [
       "## <a name='sinclair'>sinclair.tsv</a>"
      ],
      "text/plain": [
       "<IPython.core.display.Markdown object>"
      ]
     },
     "metadata": {},
     "output_type": "display_data"
    },
    {
     "data": {
      "text/markdown": [
       "An intermediate file of news outlets owned by Sinclair scraped from their website"
      ],
      "text/plain": [
       "<IPython.core.display.Markdown object>"
      ]
     },
     "metadata": {},
     "output_type": "display_data"
    },
    {
     "data": {
      "text/markdown": [
       "Read the raw file from this [URL](https://raw.githubusercontent.com/yinleon/LocalNewsDataset/master/data/sinclair.tsv): <br> `https://raw.githubusercontent.com/yinleon/LocalNewsDataset/master/data/sinclair.tsv`\n"
      ],
      "text/plain": [
       "<IPython.core.display.Markdown object>"
      ]
     },
     "metadata": {},
     "output_type": "display_data"
    },
    {
     "data": {
      "text/markdown": [
       "See the [code](https://github.com/yinleon/LocalNewsDataset/blob/master/py/download_data.py) used to make this dataset: <br> `https://github.com/yinleon/LocalNewsDataset/blob/master/py/download_data.py`\n"
      ],
      "text/plain": [
       "<IPython.core.display.Markdown object>"
      ]
     },
     "metadata": {},
     "output_type": "display_data"
    },
    {
     "data": {
      "text/markdown": [],
      "text/plain": [
       "<IPython.core.display.Markdown object>"
      ]
     },
     "metadata": {},
     "output_type": "display_data"
    },
    {
     "data": {
      "text/markdown": [
       "#### What Does the Data Look Like?"
      ],
      "text/plain": [
       "<IPython.core.display.Markdown object>"
      ]
     },
     "metadata": {},
     "output_type": "display_data"
    },
    {
     "data": {
      "text/markdown": [
       "Sample of `../data/sinclair.tsv` (N = 1321)"
      ],
      "text/plain": [
       "<IPython.core.display.Markdown object>"
      ]
     },
     "metadata": {},
     "output_type": "display_data"
    },
    {
     "data": {
      "text/html": [
       "<div>\n",
       "<style scoped>\n",
       "    .dataframe tbody tr th:only-of-type {\n",
       "        vertical-align: middle;\n",
       "    }\n",
       "\n",
       "    .dataframe tbody tr th {\n",
       "        vertical-align: top;\n",
       "    }\n",
       "\n",
       "    .dataframe thead th {\n",
       "        text-align: right;\n",
       "    }\n",
       "</style>\n",
       "<table border=\"1\" class=\"dataframe\">\n",
       "  <thead>\n",
       "    <tr style=\"text-align: right;\">\n",
       "      <th></th>\n",
       "      <th>city</th>\n",
       "      <th>geo</th>\n",
       "      <th>network</th>\n",
       "      <th>state</th>\n",
       "      <th>station</th>\n",
       "      <th>website</th>\n",
       "      <th>broadcaster</th>\n",
       "      <th>source</th>\n",
       "      <th>collection_date</th>\n",
       "    </tr>\n",
       "  </thead>\n",
       "  <tbody>\n",
       "    <tr>\n",
       "      <th>0</th>\n",
       "      <td>Chico</td>\n",
       "      <td>Chico-Redding</td>\n",
       "      <td>cozitv</td>\n",
       "      <td>CA</td>\n",
       "      <td>KRVU-LD-2</td>\n",
       "      <td>NaN</td>\n",
       "      <td>Sinclair</td>\n",
       "      <td>sbgi.net</td>\n",
       "      <td>2018-08-02 20:31:06.425892</td>\n",
       "    </tr>\n",
       "    <tr>\n",
       "      <th>1</th>\n",
       "      <td>West Palm</td>\n",
       "      <td>West Palm BeachFort Pierce, FL</td>\n",
       "      <td>tbd</td>\n",
       "      <td>FL</td>\n",
       "      <td>WTCN-3</td>\n",
       "      <td>NaN</td>\n",
       "      <td>Sinclair</td>\n",
       "      <td>sbgi.net</td>\n",
       "      <td>2018-08-02 20:31:06.425892</td>\n",
       "    </tr>\n",
       "    <tr>\n",
       "      <th>2</th>\n",
       "      <td>Abilene</td>\n",
       "      <td>Abilene-Sweetwater</td>\n",
       "      <td>cw</td>\n",
       "      <td>TX</td>\n",
       "      <td>KTXS-2</td>\n",
       "      <td>NaN</td>\n",
       "      <td>Sinclair</td>\n",
       "      <td>sbgi.net</td>\n",
       "      <td>2018-08-02 20:31:06.425892</td>\n",
       "    </tr>\n",
       "  </tbody>\n",
       "</table>\n",
       "</div>"
      ],
      "text/plain": [
       "        city                             geo network state    station website  \\\n",
       "0      Chico                   Chico-Redding  cozitv    CA  KRVU-LD-2     NaN   \n",
       "1  West Palm  West Palm BeachFort Pierce, FL     tbd    FL     WTCN-3     NaN   \n",
       "2    Abilene              Abilene-Sweetwater      cw    TX     KTXS-2     NaN   \n",
       "\n",
       "  broadcaster    source             collection_date  \n",
       "0    Sinclair  sbgi.net  2018-08-02 20:31:06.425892  \n",
       "1    Sinclair  sbgi.net  2018-08-02 20:31:06.425892  \n",
       "2    Sinclair  sbgi.net  2018-08-02 20:31:06.425892  "
      ]
     },
     "metadata": {},
     "output_type": "display_data"
    },
    {
     "data": {
      "text/markdown": [],
      "text/plain": [
       "<IPython.core.display.Markdown object>"
      ]
     },
     "metadata": {},
     "output_type": "display_data"
    },
    {
     "data": {
      "text/markdown": [
       "#### What do the columns mean?\n",
       "| Column Name | Description | N Unique Values |\n",
       "| --- | --- | --- |\n",
       "| <b>city</b> | The name of the city that the TV station is located in. | 85 |\n",
       "| <b>geo</b> | The raw geolocation field from the website. We parse this field to get `city` and `state` | 89 |\n",
       "| <b>network</b> | The franchise or brand name that the station belongs to IE \"Fox\" | 28 |\n",
       "| <b>state</b> | The two letter state abbreviation the media outlet is located in. | 35 |\n",
       "| <b>station</b> | The name of the TV station IE \"WGBH\". | 611 |\n",
       "| <b>website</b> | The website of the media outlet exactly as we found it online. | 152 |\n",
       "| <b>broadcaster</b> | The corporate owner of the station. | 1 |\n",
       "| <b>source</b> | Where was this record scraped from? | 1 |\n",
       "| <b>collection_date</b> | When was this record collected? | 3 |\n"
      ],
      "text/plain": [
       "<IPython.core.display.Markdown object>"
      ]
     },
     "metadata": {},
     "output_type": "display_data"
    },
    {
     "data": {
      "text/markdown": [],
      "text/plain": [
       "<IPython.core.display.Markdown object>"
      ]
     },
     "metadata": {},
     "output_type": "display_data"
    },
    {
     "data": {
      "text/markdown": [
       "[Top of Spec Sheet](#specs)"
      ],
      "text/plain": [
       "<IPython.core.display.Markdown object>"
      ]
     },
     "metadata": {},
     "output_type": "display_data"
    },
    {
     "data": {
      "text/markdown": [],
      "text/plain": [
       "<IPython.core.display.Markdown object>"
      ]
     },
     "metadata": {},
     "output_type": "display_data"
    },
    {
     "data": {
      "text/markdown": [
       "## <a name='meredith'>meredith.tsv</a>"
      ],
      "text/plain": [
       "<IPython.core.display.Markdown object>"
      ]
     },
     "metadata": {},
     "output_type": "display_data"
    },
    {
     "data": {
      "text/markdown": [
       "An intermediate file of news outlets owned by Meredith scraped from their website"
      ],
      "text/plain": [
       "<IPython.core.display.Markdown object>"
      ]
     },
     "metadata": {},
     "output_type": "display_data"
    },
    {
     "data": {
      "text/markdown": [
       "Read the raw file from this [URL](https://raw.githubusercontent.com/yinleon/LocalNewsDataset/master/data/meredith.tsv): <br> `https://raw.githubusercontent.com/yinleon/LocalNewsDataset/master/data/meredith.tsv`\n"
      ],
      "text/plain": [
       "<IPython.core.display.Markdown object>"
      ]
     },
     "metadata": {},
     "output_type": "display_data"
    },
    {
     "data": {
      "text/markdown": [
       "See the [code](https://github.com/yinleon/LocalNewsDataset/blob/master/py/download_data.py) used to make this dataset: <br> `https://github.com/yinleon/LocalNewsDataset/blob/master/py/download_data.py`\n"
      ],
      "text/plain": [
       "<IPython.core.display.Markdown object>"
      ]
     },
     "metadata": {},
     "output_type": "display_data"
    },
    {
     "data": {
      "text/markdown": [],
      "text/plain": [
       "<IPython.core.display.Markdown object>"
      ]
     },
     "metadata": {},
     "output_type": "display_data"
    },
    {
     "data": {
      "text/markdown": [
       "#### What Does the Data Look Like?"
      ],
      "text/plain": [
       "<IPython.core.display.Markdown object>"
      ]
     },
     "metadata": {},
     "output_type": "display_data"
    },
    {
     "data": {
      "text/markdown": [
       "Sample of `../data/meredith.tsv` (N = 16)"
      ],
      "text/plain": [
       "<IPython.core.display.Markdown object>"
      ]
     },
     "metadata": {},
     "output_type": "display_data"
    },
    {
     "data": {
      "text/html": [
       "<div>\n",
       "<style scoped>\n",
       "    .dataframe tbody tr th:only-of-type {\n",
       "        vertical-align: middle;\n",
       "    }\n",
       "\n",
       "    .dataframe tbody tr th {\n",
       "        vertical-align: top;\n",
       "    }\n",
       "\n",
       "    .dataframe thead th {\n",
       "        text-align: right;\n",
       "    }\n",
       "</style>\n",
       "<table border=\"1\" class=\"dataframe\">\n",
       "  <thead>\n",
       "    <tr style=\"text-align: right;\">\n",
       "      <th></th>\n",
       "      <th>city</th>\n",
       "      <th>facebook</th>\n",
       "      <th>google</th>\n",
       "      <th>network</th>\n",
       "      <th>state</th>\n",
       "      <th>station</th>\n",
       "      <th>twitter</th>\n",
       "      <th>website</th>\n",
       "      <th>broadcaster</th>\n",
       "      <th>source</th>\n",
       "      <th>collection_date</th>\n",
       "    </tr>\n",
       "  </thead>\n",
       "  <tbody>\n",
       "    <tr>\n",
       "      <th>0</th>\n",
       "      <td>Phoenix</td>\n",
       "      <td>https://www.facebook.com/CBS5AZ</td>\n",
       "      <td>https://plus.google.com/+cbs5az/posts</td>\n",
       "      <td>NaN</td>\n",
       "      <td>AZ</td>\n",
       "      <td>KPHO</td>\n",
       "      <td>https://twitter.com/CBS5AZ</td>\n",
       "      <td>http://www.kpho.com/</td>\n",
       "      <td>Meredith</td>\n",
       "      <td>meridith.com</td>\n",
       "      <td>2018-08-02 14:55:24.612585</td>\n",
       "    </tr>\n",
       "    <tr>\n",
       "      <th>1</th>\n",
       "      <td>Nashville</td>\n",
       "      <td>https://www.facebook.com/WSMVTV</td>\n",
       "      <td>https://plus.google.com/117143042785436999262/...</td>\n",
       "      <td>NaN</td>\n",
       "      <td>TN</td>\n",
       "      <td>WSMV</td>\n",
       "      <td>https://twitter.com/WSMV</td>\n",
       "      <td>http://www.wsmv.com</td>\n",
       "      <td>Meredith</td>\n",
       "      <td>meridith.com</td>\n",
       "      <td>2018-08-02 14:55:24.612585</td>\n",
       "    </tr>\n",
       "    <tr>\n",
       "      <th>2</th>\n",
       "      <td>Springfield</td>\n",
       "      <td>https://www.facebook.com/westernmassnews</td>\n",
       "      <td>NaN</td>\n",
       "      <td>NaN</td>\n",
       "      <td>MA</td>\n",
       "      <td>Western Mass News</td>\n",
       "      <td>https://twitter.com/WMASSNEWS</td>\n",
       "      <td>http://www.westernmassnews.com</td>\n",
       "      <td>Meredith</td>\n",
       "      <td>meridith.com</td>\n",
       "      <td>2018-08-02 14:55:24.612585</td>\n",
       "    </tr>\n",
       "  </tbody>\n",
       "</table>\n",
       "</div>"
      ],
      "text/plain": [
       "          city                                  facebook  \\\n",
       "0      Phoenix           https://www.facebook.com/CBS5AZ   \n",
       "1    Nashville           https://www.facebook.com/WSMVTV   \n",
       "2  Springfield  https://www.facebook.com/westernmassnews   \n",
       "\n",
       "                                              google  network state  \\\n",
       "0              https://plus.google.com/+cbs5az/posts      NaN    AZ   \n",
       "1  https://plus.google.com/117143042785436999262/...      NaN    TN   \n",
       "2                                                NaN      NaN    MA   \n",
       "\n",
       "             station                        twitter  \\\n",
       "0               KPHO     https://twitter.com/CBS5AZ   \n",
       "1               WSMV       https://twitter.com/WSMV   \n",
       "2  Western Mass News  https://twitter.com/WMASSNEWS   \n",
       "\n",
       "                          website broadcaster        source  \\\n",
       "0            http://www.kpho.com/    Meredith  meridith.com   \n",
       "1             http://www.wsmv.com    Meredith  meridith.com   \n",
       "2  http://www.westernmassnews.com    Meredith  meridith.com   \n",
       "\n",
       "              collection_date  \n",
       "0  2018-08-02 14:55:24.612585  \n",
       "1  2018-08-02 14:55:24.612585  \n",
       "2  2018-08-02 14:55:24.612585  "
      ]
     },
     "metadata": {},
     "output_type": "display_data"
    },
    {
     "data": {
      "text/markdown": [],
      "text/plain": [
       "<IPython.core.display.Markdown object>"
      ]
     },
     "metadata": {},
     "output_type": "display_data"
    },
    {
     "data": {
      "text/markdown": [
       "#### What do the columns mean?\n",
       "| Column Name | Description | N Unique Values |\n",
       "| --- | --- | --- |\n",
       "| <b>city</b> | The name of the city that the TV station is located in. | 12 |\n",
       "| <b>facebook</b> | The URL to the media outlet's Facebook presence. | 14 |\n",
       "| <b>google</b> | The URL to the media outlet's Google Plus presence. | 13 |\n",
       "| <b>network</b> | The franchise or brand name that the station belongs to IE \"Fox\" | 1 |\n",
       "| <b>state</b> | The two letter state abbreviation the media outlet is located in. | 11 |\n",
       "| <b>station</b> | The name of the TV station IE \"WGBH\". | 16 |\n",
       "| <b>twitter</b> | The URL to the Twitter screen name of the news outlet. | 14 |\n",
       "| <b>website</b> | The website of the media outlet exactly as we found it online. | 16 |\n",
       "| <b>broadcaster</b> | The corporate owner of the station. | 1 |\n",
       "| <b>source</b> | Where was this record scraped from? | 1 |\n",
       "| <b>collection_date</b> | When was this record collected? | 1 |\n"
      ],
      "text/plain": [
       "<IPython.core.display.Markdown object>"
      ]
     },
     "metadata": {},
     "output_type": "display_data"
    },
    {
     "data": {
      "text/markdown": [],
      "text/plain": [
       "<IPython.core.display.Markdown object>"
      ]
     },
     "metadata": {},
     "output_type": "display_data"
    },
    {
     "data": {
      "text/markdown": [
       "[Top of Spec Sheet](#specs)"
      ],
      "text/plain": [
       "<IPython.core.display.Markdown object>"
      ]
     },
     "metadata": {},
     "output_type": "display_data"
    },
    {
     "data": {
      "text/markdown": [],
      "text/plain": [
       "<IPython.core.display.Markdown object>"
      ]
     },
     "metadata": {},
     "output_type": "display_data"
    },
    {
     "data": {
      "text/markdown": [
       "## <a name='nexstar'>nexstar.tsv</a>"
      ],
      "text/plain": [
       "<IPython.core.display.Markdown object>"
      ]
     },
     "metadata": {},
     "output_type": "display_data"
    },
    {
     "data": {
      "text/markdown": [
       "An intermediate file of news outlets owned by Nexstar scraped from their website"
      ],
      "text/plain": [
       "<IPython.core.display.Markdown object>"
      ]
     },
     "metadata": {},
     "output_type": "display_data"
    },
    {
     "data": {
      "text/markdown": [
       "Read the raw file from this [URL](https://raw.githubusercontent.com/yinleon/LocalNewsDataset/master/data/nexstar.tsv): <br> `https://raw.githubusercontent.com/yinleon/LocalNewsDataset/master/data/nexstar.tsv`\n"
      ],
      "text/plain": [
       "<IPython.core.display.Markdown object>"
      ]
     },
     "metadata": {},
     "output_type": "display_data"
    },
    {
     "data": {
      "text/markdown": [
       "See the [code](https://github.com/yinleon/LocalNewsDataset/blob/master/py/download_data.py) used to make this dataset: <br> `https://github.com/yinleon/LocalNewsDataset/blob/master/py/download_data.py`\n"
      ],
      "text/plain": [
       "<IPython.core.display.Markdown object>"
      ]
     },
     "metadata": {},
     "output_type": "display_data"
    },
    {
     "data": {
      "text/markdown": [],
      "text/plain": [
       "<IPython.core.display.Markdown object>"
      ]
     },
     "metadata": {},
     "output_type": "display_data"
    },
    {
     "data": {
      "text/markdown": [
       "#### What Does the Data Look Like?"
      ],
      "text/plain": [
       "<IPython.core.display.Markdown object>"
      ]
     },
     "metadata": {},
     "output_type": "display_data"
    },
    {
     "data": {
      "text/markdown": [
       "Sample of `../data/nexstar.tsv` (N = 180)"
      ],
      "text/plain": [
       "<IPython.core.display.Markdown object>"
      ]
     },
     "metadata": {},
     "output_type": "display_data"
    },
    {
     "data": {
      "text/html": [
       "<div>\n",
       "<style scoped>\n",
       "    .dataframe tbody tr th:only-of-type {\n",
       "        vertical-align: middle;\n",
       "    }\n",
       "\n",
       "    .dataframe tbody tr th {\n",
       "        vertical-align: top;\n",
       "    }\n",
       "\n",
       "    .dataframe thead th {\n",
       "        text-align: right;\n",
       "    }\n",
       "</style>\n",
       "<table border=\"1\" class=\"dataframe\">\n",
       "  <thead>\n",
       "    <tr style=\"text-align: right;\">\n",
       "      <th></th>\n",
       "      <th>station</th>\n",
       "      <th>website</th>\n",
       "      <th>city</th>\n",
       "      <th>state</th>\n",
       "      <th>broadcaster</th>\n",
       "      <th>source</th>\n",
       "      <th>collection_date</th>\n",
       "    </tr>\n",
       "  </thead>\n",
       "  <tbody>\n",
       "    <tr>\n",
       "      <th>0</th>\n",
       "      <td>KWBQ</td>\n",
       "      <td>kwbq.com</td>\n",
       "      <td>Albuquerque</td>\n",
       "      <td>NM</td>\n",
       "      <td>Nexstar</td>\n",
       "      <td>nexstar.tv</td>\n",
       "      <td>2018-08-02 20:31:06.425892</td>\n",
       "    </tr>\n",
       "    <tr>\n",
       "      <th>1</th>\n",
       "      <td>KBVO</td>\n",
       "      <td>kbvotv.com</td>\n",
       "      <td>Austin</td>\n",
       "      <td>TX</td>\n",
       "      <td>Nexstar</td>\n",
       "      <td>nexstar.tv</td>\n",
       "      <td>2018-08-02 20:31:06.425892</td>\n",
       "    </tr>\n",
       "    <tr>\n",
       "      <th>2</th>\n",
       "      <td>KOIN</td>\n",
       "      <td>koin.com</td>\n",
       "      <td>Portland</td>\n",
       "      <td>OR</td>\n",
       "      <td>Nexstar</td>\n",
       "      <td>nexstar.tv</td>\n",
       "      <td>2018-08-02 20:31:06.425892</td>\n",
       "    </tr>\n",
       "  </tbody>\n",
       "</table>\n",
       "</div>"
      ],
      "text/plain": [
       "  station     website         city state broadcaster      source  \\\n",
       "0    KWBQ    kwbq.com  Albuquerque    NM     Nexstar  nexstar.tv   \n",
       "1    KBVO  kbvotv.com       Austin    TX     Nexstar  nexstar.tv   \n",
       "2    KOIN    koin.com     Portland    OR     Nexstar  nexstar.tv   \n",
       "\n",
       "              collection_date  \n",
       "0  2018-08-02 20:31:06.425892  \n",
       "1  2018-08-02 20:31:06.425892  \n",
       "2  2018-08-02 20:31:06.425892  "
      ]
     },
     "metadata": {},
     "output_type": "display_data"
    },
    {
     "data": {
      "text/markdown": [],
      "text/plain": [
       "<IPython.core.display.Markdown object>"
      ]
     },
     "metadata": {},
     "output_type": "display_data"
    },
    {
     "data": {
      "text/markdown": [
       "#### What do the columns mean?\n",
       "| Column Name | Description | N Unique Values |\n",
       "| --- | --- | --- |\n",
       "| <b>station</b> | The name of the TV station IE \"WGBH\". | 177 |\n",
       "| <b>website</b> | The website of the media outlet exactly as we found it online. | 113 |\n",
       "| <b>city</b> | The name of the city that the TV station is located in. | 97 |\n",
       "| <b>state</b> | The two letter state abbreviation the media outlet is located in. | 39 |\n",
       "| <b>broadcaster</b> | The corporate owner of the station. | 1 |\n",
       "| <b>source</b> | Where was this record scraped from? | 1 |\n",
       "| <b>collection_date</b> | When was this record collected? | 1 |\n"
      ],
      "text/plain": [
       "<IPython.core.display.Markdown object>"
      ]
     },
     "metadata": {},
     "output_type": "display_data"
    },
    {
     "data": {
      "text/markdown": [],
      "text/plain": [
       "<IPython.core.display.Markdown object>"
      ]
     },
     "metadata": {},
     "output_type": "display_data"
    },
    {
     "data": {
      "text/markdown": [
       "[Top of Spec Sheet](#specs)"
      ],
      "text/plain": [
       "<IPython.core.display.Markdown object>"
      ]
     },
     "metadata": {},
     "output_type": "display_data"
    },
    {
     "data": {
      "text/markdown": [],
      "text/plain": [
       "<IPython.core.display.Markdown object>"
      ]
     },
     "metadata": {},
     "output_type": "display_data"
    },
    {
     "data": {
      "text/markdown": [
       "## <a name='hearst'>hearst.tsv</a>"
      ],
      "text/plain": [
       "<IPython.core.display.Markdown object>"
      ]
     },
     "metadata": {},
     "output_type": "display_data"
    },
    {
     "data": {
      "text/markdown": [
       "An intermediate file of news outlets owned by Hearst scraped from their website"
      ],
      "text/plain": [
       "<IPython.core.display.Markdown object>"
      ]
     },
     "metadata": {},
     "output_type": "display_data"
    },
    {
     "data": {
      "text/markdown": [
       "Read the raw file from this [URL](https://raw.githubusercontent.com/yinleon/LocalNewsDataset/master/data/hearst.tsv): <br> `https://raw.githubusercontent.com/yinleon/LocalNewsDataset/master/data/hearst.tsv`\n"
      ],
      "text/plain": [
       "<IPython.core.display.Markdown object>"
      ]
     },
     "metadata": {},
     "output_type": "display_data"
    },
    {
     "data": {
      "text/markdown": [
       "See the [code](https://github.com/yinleon/LocalNewsDataset/blob/master/py/download_data.py) used to make this dataset: <br> `https://github.com/yinleon/LocalNewsDataset/blob/master/py/download_data.py`\n"
      ],
      "text/plain": [
       "<IPython.core.display.Markdown object>"
      ]
     },
     "metadata": {},
     "output_type": "display_data"
    },
    {
     "data": {
      "text/markdown": [],
      "text/plain": [
       "<IPython.core.display.Markdown object>"
      ]
     },
     "metadata": {},
     "output_type": "display_data"
    },
    {
     "data": {
      "text/markdown": [
       "#### What Does the Data Look Like?"
      ],
      "text/plain": [
       "<IPython.core.display.Markdown object>"
      ]
     },
     "metadata": {},
     "output_type": "display_data"
    },
    {
     "data": {
      "text/markdown": [
       "Sample of `../data/hearst.tsv` (N = 33)"
      ],
      "text/plain": [
       "<IPython.core.display.Markdown object>"
      ]
     },
     "metadata": {},
     "output_type": "display_data"
    },
    {
     "data": {
      "text/html": [
       "<div>\n",
       "<style scoped>\n",
       "    .dataframe tbody tr th:only-of-type {\n",
       "        vertical-align: middle;\n",
       "    }\n",
       "\n",
       "    .dataframe tbody tr th {\n",
       "        vertical-align: top;\n",
       "    }\n",
       "\n",
       "    .dataframe thead th {\n",
       "        text-align: right;\n",
       "    }\n",
       "</style>\n",
       "<table border=\"1\" class=\"dataframe\">\n",
       "  <thead>\n",
       "    <tr style=\"text-align: right;\">\n",
       "      <th></th>\n",
       "      <th>city</th>\n",
       "      <th>facebook</th>\n",
       "      <th>network</th>\n",
       "      <th>state</th>\n",
       "      <th>station</th>\n",
       "      <th>twitter</th>\n",
       "      <th>website</th>\n",
       "      <th>broadcaster</th>\n",
       "      <th>source</th>\n",
       "      <th>collection_date</th>\n",
       "    </tr>\n",
       "  </thead>\n",
       "  <tbody>\n",
       "    <tr>\n",
       "      <th>0</th>\n",
       "      <td>Monterey-Salinas</td>\n",
       "      <td>https://www.facebook.com/ksbw8?fref=ts</td>\n",
       "      <td>NaN</td>\n",
       "      <td>CA</td>\n",
       "      <td>KSBW-TV</td>\n",
       "      <td>https://twitter.com/ksbw</td>\n",
       "      <td>http://www.ksbw.com/</td>\n",
       "      <td>Hearst</td>\n",
       "      <td>hearst.com</td>\n",
       "      <td>2018-08-02 14:55:24.612585</td>\n",
       "    </tr>\n",
       "    <tr>\n",
       "      <th>1</th>\n",
       "      <td>Portland-Auburn</td>\n",
       "      <td>https://www.facebook.com/wmtwtv</td>\n",
       "      <td>NaN</td>\n",
       "      <td>ME</td>\n",
       "      <td>WMTW-TV</td>\n",
       "      <td>https://twitter.com/WMTWTV</td>\n",
       "      <td>http://www.wmtw.com/</td>\n",
       "      <td>Hearst</td>\n",
       "      <td>hearst.com</td>\n",
       "      <td>2018-08-02 14:55:24.612585</td>\n",
       "    </tr>\n",
       "    <tr>\n",
       "      <th>2</th>\n",
       "      <td>Burlington  VT/Plattsburgh</td>\n",
       "      <td>https://www.facebook.com/5WPTZ</td>\n",
       "      <td>NaN</td>\n",
       "      <td>NY</td>\n",
       "      <td>WPTZ-TV/WNNE-TV</td>\n",
       "      <td>https://twitter.com/mynbc5</td>\n",
       "      <td>http://www.wptz.com/</td>\n",
       "      <td>Hearst</td>\n",
       "      <td>hearst.com</td>\n",
       "      <td>2018-08-02 14:55:24.612585</td>\n",
       "    </tr>\n",
       "  </tbody>\n",
       "</table>\n",
       "</div>"
      ],
      "text/plain": [
       "                         city                                facebook  \\\n",
       "0            Monterey-Salinas  https://www.facebook.com/ksbw8?fref=ts   \n",
       "1             Portland-Auburn         https://www.facebook.com/wmtwtv   \n",
       "2  Burlington  VT/Plattsburgh          https://www.facebook.com/5WPTZ   \n",
       "\n",
       "   network state           station                     twitter  \\\n",
       "0      NaN    CA           KSBW-TV    https://twitter.com/ksbw   \n",
       "1      NaN    ME           WMTW-TV  https://twitter.com/WMTWTV   \n",
       "2      NaN    NY  WPTZ-TV/WNNE-TV   https://twitter.com/mynbc5   \n",
       "\n",
       "                website broadcaster      source             collection_date  \n",
       "0  http://www.ksbw.com/      Hearst  hearst.com  2018-08-02 14:55:24.612585  \n",
       "1  http://www.wmtw.com/      Hearst  hearst.com  2018-08-02 14:55:24.612585  \n",
       "2  http://www.wptz.com/      Hearst  hearst.com  2018-08-02 14:55:24.612585  "
      ]
     },
     "metadata": {},
     "output_type": "display_data"
    },
    {
     "data": {
      "text/markdown": [],
      "text/plain": [
       "<IPython.core.display.Markdown object>"
      ]
     },
     "metadata": {},
     "output_type": "display_data"
    },
    {
     "data": {
      "text/markdown": [
       "#### What do the columns mean?\n",
       "| Column Name | Description | N Unique Values |\n",
       "| --- | --- | --- |\n",
       "| <b>city</b> | The name of the city that the TV station is located in. | 27 |\n",
       "| <b>facebook</b> | The URL to the media outlet's Facebook presence. | 33 |\n",
       "| <b>network</b> | The franchise or brand name that the station belongs to IE \"Fox\" | 1 |\n",
       "| <b>state</b> | The two letter state abbreviation the media outlet is located in. | 23 |\n",
       "| <b>station</b> | The name of the TV station IE \"WGBH\". | 33 |\n",
       "| <b>twitter</b> | The URL to the Twitter screen name of the news outlet. | 30 |\n",
       "| <b>website</b> | The website of the media outlet exactly as we found it online. | 33 |\n",
       "| <b>broadcaster</b> | The corporate owner of the station. | 1 |\n",
       "| <b>source</b> | Where was this record scraped from? | 1 |\n",
       "| <b>collection_date</b> | When was this record collected? | 1 |\n"
      ],
      "text/plain": [
       "<IPython.core.display.Markdown object>"
      ]
     },
     "metadata": {},
     "output_type": "display_data"
    },
    {
     "data": {
      "text/markdown": [],
      "text/plain": [
       "<IPython.core.display.Markdown object>"
      ]
     },
     "metadata": {},
     "output_type": "display_data"
    },
    {
     "data": {
      "text/markdown": [
       "[Top of Spec Sheet](#specs)"
      ],
      "text/plain": [
       "<IPython.core.display.Markdown object>"
      ]
     },
     "metadata": {},
     "output_type": "display_data"
    },
    {
     "data": {
      "text/markdown": [],
      "text/plain": [
       "<IPython.core.display.Markdown object>"
      ]
     },
     "metadata": {},
     "output_type": "display_data"
    },
    {
     "data": {
      "text/markdown": [
       "## <a name='tribune'>tribune.tsv</a>"
      ],
      "text/plain": [
       "<IPython.core.display.Markdown object>"
      ]
     },
     "metadata": {},
     "output_type": "display_data"
    },
    {
     "data": {
      "text/markdown": [
       "An intermediate file of news outlets owned by Tribune scraped from their website."
      ],
      "text/plain": [
       "<IPython.core.display.Markdown object>"
      ]
     },
     "metadata": {},
     "output_type": "display_data"
    },
    {
     "data": {
      "text/markdown": [
       "Read the raw file from this [URL](https://raw.githubusercontent.com/yinleon/LocalNewsDataset/master/data/tribune.tsv): <br> `https://raw.githubusercontent.com/yinleon/LocalNewsDataset/master/data/tribune.tsv`\n"
      ],
      "text/plain": [
       "<IPython.core.display.Markdown object>"
      ]
     },
     "metadata": {},
     "output_type": "display_data"
    },
    {
     "data": {
      "text/markdown": [
       "See the [code](https://github.com/yinleon/LocalNewsDataset/blob/master/py/download_data.py#L21-L86) used to make this dataset: <br> `https://github.com/yinleon/LocalNewsDataset/blob/master/py/download_data.py#L21-L86`\n"
      ],
      "text/plain": [
       "<IPython.core.display.Markdown object>"
      ]
     },
     "metadata": {},
     "output_type": "display_data"
    },
    {
     "data": {
      "text/markdown": [],
      "text/plain": [
       "<IPython.core.display.Markdown object>"
      ]
     },
     "metadata": {},
     "output_type": "display_data"
    },
    {
     "data": {
      "text/markdown": [
       "#### What Does the Data Look Like?"
      ],
      "text/plain": [
       "<IPython.core.display.Markdown object>"
      ]
     },
     "metadata": {},
     "output_type": "display_data"
    },
    {
     "data": {
      "text/markdown": [
       "Sample of `../data/tribune.tsv` (N = 47)"
      ],
      "text/plain": [
       "<IPython.core.display.Markdown object>"
      ]
     },
     "metadata": {},
     "output_type": "display_data"
    },
    {
     "data": {
      "text/html": [
       "<div>\n",
       "<style scoped>\n",
       "    .dataframe tbody tr th:only-of-type {\n",
       "        vertical-align: middle;\n",
       "    }\n",
       "\n",
       "    .dataframe tbody tr th {\n",
       "        vertical-align: top;\n",
       "    }\n",
       "\n",
       "    .dataframe thead th {\n",
       "        text-align: right;\n",
       "    }\n",
       "</style>\n",
       "<table border=\"1\" class=\"dataframe\">\n",
       "  <thead>\n",
       "    <tr style=\"text-align: right;\">\n",
       "      <th></th>\n",
       "      <th>city</th>\n",
       "      <th>facebook</th>\n",
       "      <th>network</th>\n",
       "      <th>station</th>\n",
       "      <th>twitter</th>\n",
       "      <th>website</th>\n",
       "      <th>youtube</th>\n",
       "      <th>broadcaster</th>\n",
       "      <th>source</th>\n",
       "      <th>state</th>\n",
       "      <th>collection_date</th>\n",
       "    </tr>\n",
       "  </thead>\n",
       "  <tbody>\n",
       "    <tr>\n",
       "      <th>0</th>\n",
       "      <td>South Florida</td>\n",
       "      <td>http://www.facebook.com/SFLCW</td>\n",
       "      <td>NaN</td>\n",
       "      <td>WSFL</td>\n",
       "      <td>https://twitter.com/SFLCW</td>\n",
       "      <td>http://sfltv.net/</td>\n",
       "      <td>NaN</td>\n",
       "      <td>Tribune</td>\n",
       "      <td>tribunemedia.com</td>\n",
       "      <td>FL</td>\n",
       "      <td>2018-08-04 01:06:48.283394</td>\n",
       "    </tr>\n",
       "    <tr>\n",
       "      <th>1</th>\n",
       "      <td>Indianapolis</td>\n",
       "      <td>https://www.facebook.com/CBS4Indy</td>\n",
       "      <td>NaN</td>\n",
       "      <td>WTTV</td>\n",
       "      <td>https://twitter.com/cbs4indy</td>\n",
       "      <td>http://cbs4indy.com/</td>\n",
       "      <td>NaN</td>\n",
       "      <td>Tribune</td>\n",
       "      <td>tribunemedia.com</td>\n",
       "      <td>IN</td>\n",
       "      <td>2018-08-04 01:06:48.283394</td>\n",
       "    </tr>\n",
       "    <tr>\n",
       "      <th>2</th>\n",
       "      <td>Dallas</td>\n",
       "      <td>https://www.facebook.com/NightcapNews</td>\n",
       "      <td>NaN</td>\n",
       "      <td>KDAF</td>\n",
       "      <td>https://twitter.com/NewsFixDFW</td>\n",
       "      <td>http://cw33.com/</td>\n",
       "      <td>http://www.youtube.com/user/kdaf</td>\n",
       "      <td>Tribune</td>\n",
       "      <td>tribunemedia.com</td>\n",
       "      <td>TX</td>\n",
       "      <td>2018-08-04 01:06:48.283394</td>\n",
       "    </tr>\n",
       "  </tbody>\n",
       "</table>\n",
       "</div>"
      ],
      "text/plain": [
       "            city                               facebook  network station  \\\n",
       "0  South Florida          http://www.facebook.com/SFLCW      NaN    WSFL   \n",
       "1   Indianapolis      https://www.facebook.com/CBS4Indy      NaN    WTTV   \n",
       "2         Dallas  https://www.facebook.com/NightcapNews      NaN    KDAF   \n",
       "\n",
       "                          twitter               website  \\\n",
       "0       https://twitter.com/SFLCW     http://sfltv.net/   \n",
       "1    https://twitter.com/cbs4indy  http://cbs4indy.com/   \n",
       "2  https://twitter.com/NewsFixDFW      http://cw33.com/   \n",
       "\n",
       "                            youtube broadcaster            source state  \\\n",
       "0                               NaN     Tribune  tribunemedia.com    FL   \n",
       "1                               NaN     Tribune  tribunemedia.com    IN   \n",
       "2  http://www.youtube.com/user/kdaf     Tribune  tribunemedia.com    TX   \n",
       "\n",
       "              collection_date  \n",
       "0  2018-08-04 01:06:48.283394  \n",
       "1  2018-08-04 01:06:48.283394  \n",
       "2  2018-08-04 01:06:48.283394  "
      ]
     },
     "metadata": {},
     "output_type": "display_data"
    },
    {
     "data": {
      "text/markdown": [],
      "text/plain": [
       "<IPython.core.display.Markdown object>"
      ]
     },
     "metadata": {},
     "output_type": "display_data"
    },
    {
     "data": {
      "text/markdown": [
       "#### What do the columns mean?\n",
       "| Column Name | Description | N Unique Values |\n",
       "| --- | --- | --- |\n",
       "| <b>city</b> | The name of the city that the TV station is located in. | 36 |\n",
       "| <b>facebook</b> | The URL to the media outlet's Facebook presence. | 46 |\n",
       "| <b>network</b> | The franchise or brand name that the station belongs to IE \"Fox\" | 1 |\n",
       "| <b>station</b> | The name of the TV station IE \"WGBH\". | 46 |\n",
       "| <b>twitter</b> | The URL to the Twitter screen name of the news outlet. | 43 |\n",
       "| <b>website</b> | The website of the media outlet exactly as we found it online. | 47 |\n",
       "| <b>youtube</b> | The URL to the media outlet's YouTube presence. | 30 |\n",
       "| <b>broadcaster</b> | The corporate owner of the station. | 1 |\n",
       "| <b>source</b> | Where was this record scraped from? | 1 |\n",
       "| <b>state</b> | The two letter state abbreviation the media outlet is located in. | 26 |\n",
       "| <b>collection_date</b> | When was this record collected? | 1 |\n"
      ],
      "text/plain": [
       "<IPython.core.display.Markdown object>"
      ]
     },
     "metadata": {},
     "output_type": "display_data"
    },
    {
     "data": {
      "text/markdown": [],
      "text/plain": [
       "<IPython.core.display.Markdown object>"
      ]
     },
     "metadata": {},
     "output_type": "display_data"
    },
    {
     "data": {
      "text/markdown": [
       "[Top of Spec Sheet](#specs)"
      ],
      "text/plain": [
       "<IPython.core.display.Markdown object>"
      ]
     },
     "metadata": {},
     "output_type": "display_data"
    },
    {
     "data": {
      "text/markdown": [],
      "text/plain": [
       "<IPython.core.display.Markdown object>"
      ]
     },
     "metadata": {},
     "output_type": "display_data"
    },
    {
     "data": {
      "text/markdown": [
       "## <a name='station_index'>station_index.tsv</a>"
      ],
      "text/plain": [
       "<IPython.core.display.Markdown object>"
      ]
     },
     "metadata": {},
     "output_type": "display_data"
    },
    {
     "data": {
      "text/markdown": [
       "An intermediate file of TV stations compiled on stationindex.com. The website is scraped according to the market (reigon), and again according to the owner. The two scraped datasets are merged and duplicates are dropped. When dropping duplicates, precedence is given to the entry scraped owners."
      ],
      "text/plain": [
       "<IPython.core.display.Markdown object>"
      ]
     },
     "metadata": {},
     "output_type": "display_data"
    },
    {
     "data": {
      "text/markdown": [
       "Read the raw file from this [URL](https://raw.githubusercontent.com/yinleon/LocalNewsDataset/master/data/station_index.tsv): <br> `https://raw.githubusercontent.com/yinleon/LocalNewsDataset/master/data/station_index.tsv`\n"
      ],
      "text/plain": [
       "<IPython.core.display.Markdown object>"
      ]
     },
     "metadata": {},
     "output_type": "display_data"
    },
    {
     "data": {
      "text/markdown": [
       "See the [code](https://github.com/yinleon/LocalNewsDataset/blob/master/py/download_data.py) used to make this dataset: <br> `https://github.com/yinleon/LocalNewsDataset/blob/master/py/download_data.py`\n"
      ],
      "text/plain": [
       "<IPython.core.display.Markdown object>"
      ]
     },
     "metadata": {},
     "output_type": "display_data"
    },
    {
     "data": {
      "text/markdown": [],
      "text/plain": [
       "<IPython.core.display.Markdown object>"
      ]
     },
     "metadata": {},
     "output_type": "display_data"
    },
    {
     "data": {
      "text/markdown": [
       "#### What Does the Data Look Like?"
      ],
      "text/plain": [
       "<IPython.core.display.Markdown object>"
      ]
     },
     "metadata": {},
     "output_type": "display_data"
    },
    {
     "data": {
      "text/markdown": [
       "Sample of `../data/station_index.tsv` (N = 1867)"
      ],
      "text/plain": [
       "<IPython.core.display.Markdown object>"
      ]
     },
     "metadata": {},
     "output_type": "display_data"
    },
    {
     "data": {
      "text/html": [
       "<div>\n",
       "<style scoped>\n",
       "    .dataframe tbody tr th:only-of-type {\n",
       "        vertical-align: middle;\n",
       "    }\n",
       "\n",
       "    .dataframe tbody tr th {\n",
       "        vertical-align: top;\n",
       "    }\n",
       "\n",
       "    .dataframe thead th {\n",
       "        text-align: right;\n",
       "    }\n",
       "</style>\n",
       "<table border=\"1\" class=\"dataframe\">\n",
       "  <thead>\n",
       "    <tr style=\"text-align: right;\">\n",
       "      <th></th>\n",
       "      <th>city</th>\n",
       "      <th>collection_date</th>\n",
       "      <th>id</th>\n",
       "      <th>owner</th>\n",
       "      <th>source</th>\n",
       "      <th>state</th>\n",
       "      <th>station</th>\n",
       "      <th>station_info</th>\n",
       "      <th>subchannels</th>\n",
       "      <th>website</th>\n",
       "    </tr>\n",
       "  </thead>\n",
       "  <tbody>\n",
       "    <tr>\n",
       "      <th>0</th>\n",
       "      <td>Houston</td>\n",
       "      <td>2018-08-02 14:55:24.612585</td>\n",
       "      <td>\"FOX 26\"</td>\n",
       "      <td>Fox Television Stations</td>\n",
       "      <td>stationindex</td>\n",
       "      <td>TX</td>\n",
       "      <td>KRIV</td>\n",
       "      <td>Digital Full-Power - 1000 kW</td>\n",
       "      <td>NaN</td>\n",
       "      <td>http://www.fox26houston.com/</td>\n",
       "    </tr>\n",
       "    <tr>\n",
       "      <th>1</th>\n",
       "      <td>Boise</td>\n",
       "      <td>2018-08-02 14:55:24.612585</td>\n",
       "      <td>\"Telemundo Boise\"</td>\n",
       "      <td>Boise Telecasters</td>\n",
       "      <td>stationindex</td>\n",
       "      <td>ID</td>\n",
       "      <td>KKJB</td>\n",
       "      <td>Digital Full-Power - 35 kW</td>\n",
       "      <td>39.1 Telemundo, 39.2 Cozi TV, 39.3 Antenna TV...</td>\n",
       "      <td>NaN</td>\n",
       "    </tr>\n",
       "    <tr>\n",
       "      <th>2</th>\n",
       "      <td>Phoenix</td>\n",
       "      <td>2018-08-02 14:55:24.612585</td>\n",
       "      <td>NaN</td>\n",
       "      <td>Daystar</td>\n",
       "      <td>stationindex</td>\n",
       "      <td>AZ</td>\n",
       "      <td>KDPH-LP</td>\n",
       "      <td>Low-Power - 150 kW</td>\n",
       "      <td>NaN</td>\n",
       "      <td>NaN</td>\n",
       "    </tr>\n",
       "  </tbody>\n",
       "</table>\n",
       "</div>"
      ],
      "text/plain": [
       "       city             collection_date                  id  \\\n",
       "0   Houston  2018-08-02 14:55:24.612585            \"FOX 26\"   \n",
       "1     Boise  2018-08-02 14:55:24.612585   \"Telemundo Boise\"   \n",
       "2   Phoenix  2018-08-02 14:55:24.612585                 NaN   \n",
       "\n",
       "                      owner        source state  station  \\\n",
       "0   Fox Television Stations  stationindex    TX     KRIV   \n",
       "1         Boise Telecasters  stationindex    ID     KKJB   \n",
       "2                   Daystar  stationindex    AZ  KDPH-LP   \n",
       "\n",
       "                    station_info  \\\n",
       "0   Digital Full-Power - 1000 kW   \n",
       "1     Digital Full-Power - 35 kW   \n",
       "2             Low-Power - 150 kW   \n",
       "\n",
       "                                         subchannels  \\\n",
       "0                                                NaN   \n",
       "1   39.1 Telemundo, 39.2 Cozi TV, 39.3 Antenna TV...   \n",
       "2                                                NaN   \n",
       "\n",
       "                        website  \n",
       "0  http://www.fox26houston.com/  \n",
       "1                           NaN  \n",
       "2                           NaN  "
      ]
     },
     "metadata": {},
     "output_type": "display_data"
    },
    {
     "data": {
      "text/markdown": [],
      "text/plain": [
       "<IPython.core.display.Markdown object>"
      ]
     },
     "metadata": {},
     "output_type": "display_data"
    },
    {
     "data": {
      "text/markdown": [
       "#### What do the columns mean?\n",
       "| Column Name | Description | N Unique Values |\n",
       "| --- | --- | --- |\n",
       "| <b>city</b> | The name of the city that the TV station is located in. | 676 |\n",
       "| <b>id</b> | The human-recognizable name for the TV station. | 699 |\n",
       "| <b>owner</b> | The corporate owner of the station. | 641 |\n",
       "| <b>state</b> | The two letter state abbreviation the media outlet is located in. | 56 |\n",
       "| <b>station_info</b> | Related to the frequency of the transmission and technical specs | 765 |\n",
       "| <b>station</b> | The name of the TV station IE \"WGBH\". | 1866 |\n",
       "| <b>subchannels</b> | Alternative names for the TV station | 626 |\n",
       "| <b>website</b> | The website of the media outlet exactly as we found it online. | 1172 |\n",
       "| <b>source</b> | Where was this record scraped from? | 1 |\n",
       "| <b>collection_date</b> | When was this record collected? | 1 |\n"
      ],
      "text/plain": [
       "<IPython.core.display.Markdown object>"
      ]
     },
     "metadata": {},
     "output_type": "display_data"
    },
    {
     "data": {
      "text/markdown": [],
      "text/plain": [
       "<IPython.core.display.Markdown object>"
      ]
     },
     "metadata": {},
     "output_type": "display_data"
    },
    {
     "data": {
      "text/markdown": [
       "[Top of Spec Sheet](#specs)"
      ],
      "text/plain": [
       "<IPython.core.display.Markdown object>"
      ]
     },
     "metadata": {},
     "output_type": "display_data"
    },
    {
     "data": {
      "text/markdown": [],
      "text/plain": [
       "<IPython.core.display.Markdown object>"
      ]
     },
     "metadata": {},
     "output_type": "display_data"
    },
    {
     "data": {
      "text/markdown": [
       "## <a name='usnpl'>usnpl.tsv</a>"
      ],
      "text/plain": [
       "<IPython.core.display.Markdown object>"
      ]
     },
     "metadata": {},
     "output_type": "display_data"
    },
    {
     "data": {
      "text/markdown": [
       "An intermediate file of News papers, magazines and college papers compiled by usnpl.com. The website is scraped by visiting state-specific pages using requests and BeautifulSoup, websites and social media are collected wherever possible."
      ],
      "text/plain": [
       "<IPython.core.display.Markdown object>"
      ]
     },
     "metadata": {},
     "output_type": "display_data"
    },
    {
     "data": {
      "text/markdown": [
       "Read the raw file from this [URL](https://raw.githubusercontent.com/yinleon/LocalNewsDataset/master/data/usnpl.tsv): <br> `https://raw.githubusercontent.com/yinleon/LocalNewsDataset/master/data/usnpl.tsv`\n"
      ],
      "text/plain": [
       "<IPython.core.display.Markdown object>"
      ]
     },
     "metadata": {},
     "output_type": "display_data"
    },
    {
     "data": {
      "text/markdown": [
       "See the [code](https://github.com/yinleon/LocalNewsDataset/blob/master/py/download_data.py) used to make this dataset: <br> `https://github.com/yinleon/LocalNewsDataset/blob/master/py/download_data.py`\n"
      ],
      "text/plain": [
       "<IPython.core.display.Markdown object>"
      ]
     },
     "metadata": {},
     "output_type": "display_data"
    },
    {
     "data": {
      "text/markdown": [],
      "text/plain": [
       "<IPython.core.display.Markdown object>"
      ]
     },
     "metadata": {},
     "output_type": "display_data"
    },
    {
     "data": {
      "text/markdown": [
       "#### What Does the Data Look Like?"
      ],
      "text/plain": [
       "<IPython.core.display.Markdown object>"
      ]
     },
     "metadata": {},
     "output_type": "display_data"
    },
    {
     "data": {
      "text/markdown": [
       "Sample of `../data/usnpl.tsv` (N = 6221)"
      ],
      "text/plain": [
       "<IPython.core.display.Markdown object>"
      ]
     },
     "metadata": {},
     "output_type": "display_data"
    },
    {
     "data": {
      "text/html": [
       "<div>\n",
       "<style scoped>\n",
       "    .dataframe tbody tr th:only-of-type {\n",
       "        vertical-align: middle;\n",
       "    }\n",
       "\n",
       "    .dataframe tbody tr th {\n",
       "        vertical-align: top;\n",
       "    }\n",
       "\n",
       "    .dataframe thead th {\n",
       "        text-align: right;\n",
       "    }\n",
       "</style>\n",
       "<table border=\"1\" class=\"dataframe\">\n",
       "  <thead>\n",
       "    <tr style=\"text-align: right;\">\n",
       "      <th></th>\n",
       "      <th>Facebook</th>\n",
       "      <th>Geography</th>\n",
       "      <th>Medium</th>\n",
       "      <th>Name</th>\n",
       "      <th>Twitter_Name</th>\n",
       "      <th>Website</th>\n",
       "      <th>Youtube</th>\n",
       "      <th>source</th>\n",
       "      <th>collection_date</th>\n",
       "    </tr>\n",
       "  </thead>\n",
       "  <tbody>\n",
       "    <tr>\n",
       "      <th>0</th>\n",
       "      <td>https://www.facebook.com/MissionTimesCourier</td>\n",
       "      <td>CA</td>\n",
       "      <td>Newspapers</td>\n",
       "      <td>Mission Times Courier</td>\n",
       "      <td>NaN</td>\n",
       "      <td>http://www.missiontimescourier.com</td>\n",
       "      <td>NaN</td>\n",
       "      <td>usnpl.com</td>\n",
       "      <td>2018-08-02 14:55:24.612585</td>\n",
       "    </tr>\n",
       "    <tr>\n",
       "      <th>1</th>\n",
       "      <td>https://www.facebook.com/adelantevalle</td>\n",
       "      <td>CA</td>\n",
       "      <td>Newspapers</td>\n",
       "      <td>Adelante Valle</td>\n",
       "      <td>IVPNews</td>\n",
       "      <td>http://www.ivpressonline.com/adelantevalle</td>\n",
       "      <td>http://www.youtube.com/user/ivpressonline</td>\n",
       "      <td>usnpl.com</td>\n",
       "      <td>2018-08-02 14:55:24.612585</td>\n",
       "    </tr>\n",
       "    <tr>\n",
       "      <th>2</th>\n",
       "      <td>https://www.facebook.com/calmarcourier</td>\n",
       "      <td>IA</td>\n",
       "      <td>Newspapers</td>\n",
       "      <td>Calmar Courier</td>\n",
       "      <td>calmarcourier</td>\n",
       "      <td>http://calmarcourier.com</td>\n",
       "      <td>https://www.youtube.com/channel/UCVTvRL0P_eaIU...</td>\n",
       "      <td>usnpl.com</td>\n",
       "      <td>2018-08-02 14:55:24.612585</td>\n",
       "    </tr>\n",
       "  </tbody>\n",
       "</table>\n",
       "</div>"
      ],
      "text/plain": [
       "                                       Facebook Geography      Medium  \\\n",
       "0  https://www.facebook.com/MissionTimesCourier        CA  Newspapers   \n",
       "1        https://www.facebook.com/adelantevalle        CA  Newspapers   \n",
       "2        https://www.facebook.com/calmarcourier        IA  Newspapers   \n",
       "\n",
       "                    Name   Twitter_Name  \\\n",
       "0  Mission Times Courier            NaN   \n",
       "1         Adelante Valle        IVPNews   \n",
       "2         Calmar Courier  calmarcourier   \n",
       "\n",
       "                                      Website  \\\n",
       "0          http://www.missiontimescourier.com   \n",
       "1  http://www.ivpressonline.com/adelantevalle   \n",
       "2                    http://calmarcourier.com   \n",
       "\n",
       "                                             Youtube     source  \\\n",
       "0                                                NaN  usnpl.com   \n",
       "1          http://www.youtube.com/user/ivpressonline  usnpl.com   \n",
       "2  https://www.youtube.com/channel/UCVTvRL0P_eaIU...  usnpl.com   \n",
       "\n",
       "              collection_date  \n",
       "0  2018-08-02 14:55:24.612585  \n",
       "1  2018-08-02 14:55:24.612585  \n",
       "2  2018-08-02 14:55:24.612585  "
      ]
     },
     "metadata": {},
     "output_type": "display_data"
    },
    {
     "data": {
      "text/markdown": [],
      "text/plain": [
       "<IPython.core.display.Markdown object>"
      ]
     },
     "metadata": {},
     "output_type": "display_data"
    },
    {
     "data": {
      "text/markdown": [
       "#### What do the columns mean?\n",
       "| Column Name | Description | N Unique Values |\n",
       "| --- | --- | --- |\n",
       "| <b>Facebook</b> | The URL to the media outlet's Facebook presence. | 5100 |\n",
       "| <b>Geography</b> | The two letter state abbreviation the media outlet is located in. | 51 |\n",
       "| <b>Medium</b> | Whether the news outlet is a newspaper, magazine or college newspaper. | 3 |\n",
       "| <b>Name</b> | The name of the TV station IE \"WGBH\". | 5765 |\n",
       "| <b>Twitter_Name</b> | The Twitter screen name of the news outlet. | 3643 |\n",
       "| <b>Website</b> | The website of the media outlet exactly as we found it online. | 6080 |\n",
       "| <b>Youtube</b> | The URL to the media outlet's YouTube presence. | 2226 |\n",
       "| <b>source</b> | Where was this record scraped from? | 1 |\n",
       "| <b>collection_date</b> | When was this record collected? | 1 |\n"
      ],
      "text/plain": [
       "<IPython.core.display.Markdown object>"
      ]
     },
     "metadata": {},
     "output_type": "display_data"
    },
    {
     "data": {
      "text/markdown": [],
      "text/plain": [
       "<IPython.core.display.Markdown object>"
      ]
     },
     "metadata": {},
     "output_type": "display_data"
    },
    {
     "data": {
      "text/markdown": [
       "[Top of Spec Sheet](#specs)"
      ],
      "text/plain": [
       "<IPython.core.display.Markdown object>"
      ]
     },
     "metadata": {},
     "output_type": "display_data"
    },
    {
     "data": {
      "text/markdown": [],
      "text/plain": [
       "<IPython.core.display.Markdown object>"
      ]
     },
     "metadata": {},
     "output_type": "display_data"
    },
    {
     "data": {
      "text/markdown": [
       "## <a name='local_news_dataset_2018'>local_news_dataset_2018.csv</a>"
      ],
      "text/plain": [
       "<IPython.core.display.Markdown object>"
      ]
     },
     "metadata": {},
     "output_type": "display_data"
    },
    {
     "data": {
      "text/markdown": [
       "The intermediate files above are preprocessed (renaming columns, removing duplicates) and merged resulting in the Local News Dataset! This is it! We made it!"
      ],
      "text/plain": [
       "<IPython.core.display.Markdown object>"
      ]
     },
     "metadata": {},
     "output_type": "display_data"
    },
    {
     "data": {
      "text/markdown": [
       "Read the raw file from this [URL](https://raw.githubusercontent.com/yinleon/LocalNewsDataset/master/data/local_news_dataset_2018.csv): <br> `https://raw.githubusercontent.com/yinleon/LocalNewsDataset/master/data/local_news_dataset_2018.csv`\n"
      ],
      "text/plain": [
       "<IPython.core.display.Markdown object>"
      ]
     },
     "metadata": {},
     "output_type": "display_data"
    },
    {
     "data": {
      "text/markdown": [
       "See the [code](https://github.com/yinleon/LocalNewsDataset/blob/master/py/merge.py) used to make this dataset: <br> `https://github.com/yinleon/LocalNewsDataset/blob/master/py/merge.py`\n"
      ],
      "text/plain": [
       "<IPython.core.display.Markdown object>"
      ]
     },
     "metadata": {},
     "output_type": "display_data"
    },
    {
     "data": {
      "text/markdown": [],
      "text/plain": [
       "<IPython.core.display.Markdown object>"
      ]
     },
     "metadata": {},
     "output_type": "display_data"
    },
    {
     "data": {
      "text/markdown": [
       "#### What Does the Data Look Like?"
      ],
      "text/plain": [
       "<IPython.core.display.Markdown object>"
      ]
     },
     "metadata": {},
     "output_type": "display_data"
    },
    {
     "data": {
      "text/markdown": [
       "Sample of `../data/local_news_dataset_2018.csv` (N = 8720)"
      ],
      "text/plain": [
       "<IPython.core.display.Markdown object>"
      ]
     },
     "metadata": {},
     "output_type": "display_data"
    },
    {
     "data": {
      "text/html": [
       "<div>\n",
       "<style scoped>\n",
       "    .dataframe tbody tr th:only-of-type {\n",
       "        vertical-align: middle;\n",
       "    }\n",
       "\n",
       "    .dataframe tbody tr th {\n",
       "        vertical-align: top;\n",
       "    }\n",
       "\n",
       "    .dataframe thead th {\n",
       "        text-align: right;\n",
       "    }\n",
       "</style>\n",
       "<table border=\"1\" class=\"dataframe\">\n",
       "  <thead>\n",
       "    <tr style=\"text-align: right;\">\n",
       "      <th></th>\n",
       "      <th>name</th>\n",
       "      <th>state</th>\n",
       "      <th>website</th>\n",
       "      <th>domain</th>\n",
       "      <th>twitter</th>\n",
       "      <th>youtube</th>\n",
       "      <th>facebook</th>\n",
       "      <th>owner</th>\n",
       "      <th>medium</th>\n",
       "      <th>source</th>\n",
       "      <th>collection_date</th>\n",
       "    </tr>\n",
       "  </thead>\n",
       "  <tbody>\n",
       "    <tr>\n",
       "      <th>0</th>\n",
       "      <td>WTVC</td>\n",
       "      <td>TN</td>\n",
       "      <td>http://www.newschannel9.com/</td>\n",
       "      <td>newschannel9.com</td>\n",
       "      <td>NaN</td>\n",
       "      <td>NaN</td>\n",
       "      <td>NaN</td>\n",
       "      <td>Freedom Communications</td>\n",
       "      <td>TV station</td>\n",
       "      <td>stationindex</td>\n",
       "      <td>2018-08-02 14:55:24.612585</td>\n",
       "    </tr>\n",
       "    <tr>\n",
       "      <th>1</th>\n",
       "      <td>Fountain Hills Times</td>\n",
       "      <td>AZ</td>\n",
       "      <td>http://www.fhtimes.com</td>\n",
       "      <td>fhtimes.com</td>\n",
       "      <td>NaN</td>\n",
       "      <td>NaN</td>\n",
       "      <td>https://www.facebook.com/fountainhillstimes</td>\n",
       "      <td>NaN</td>\n",
       "      <td>Newspapers</td>\n",
       "      <td>usnpl.com</td>\n",
       "      <td>2018-08-02 14:55:24.612585</td>\n",
       "    </tr>\n",
       "    <tr>\n",
       "      <th>2</th>\n",
       "      <td>Beauregard Daily News</td>\n",
       "      <td>LA</td>\n",
       "      <td>http://www.beauregarddailynews.net</td>\n",
       "      <td>beauregarddailynews.net</td>\n",
       "      <td>beauregardnews</td>\n",
       "      <td>NaN</td>\n",
       "      <td>https://www.facebook.com/beauregardnews</td>\n",
       "      <td>NaN</td>\n",
       "      <td>Newspapers</td>\n",
       "      <td>usnpl.com</td>\n",
       "      <td>2018-08-02 14:55:24.612585</td>\n",
       "    </tr>\n",
       "  </tbody>\n",
       "</table>\n",
       "</div>"
      ],
      "text/plain": [
       "                    name state                             website  \\\n",
       "0                   WTVC    TN        http://www.newschannel9.com/   \n",
       "1   Fountain Hills Times    AZ              http://www.fhtimes.com   \n",
       "2  Beauregard Daily News    LA  http://www.beauregarddailynews.net   \n",
       "\n",
       "                    domain         twitter youtube  \\\n",
       "0         newschannel9.com             NaN     NaN   \n",
       "1              fhtimes.com             NaN     NaN   \n",
       "2  beauregarddailynews.net  beauregardnews     NaN   \n",
       "\n",
       "                                      facebook                   owner  \\\n",
       "0                                          NaN  Freedom Communications   \n",
       "1  https://www.facebook.com/fountainhillstimes                     NaN   \n",
       "2      https://www.facebook.com/beauregardnews                     NaN   \n",
       "\n",
       "       medium        source             collection_date  \n",
       "0  TV station  stationindex  2018-08-02 14:55:24.612585  \n",
       "1  Newspapers     usnpl.com  2018-08-02 14:55:24.612585  \n",
       "2  Newspapers     usnpl.com  2018-08-02 14:55:24.612585  "
      ]
     },
     "metadata": {},
     "output_type": "display_data"
    },
    {
     "data": {
      "text/markdown": [],
      "text/plain": [
       "<IPython.core.display.Markdown object>"
      ]
     },
     "metadata": {},
     "output_type": "display_data"
    },
    {
     "data": {
      "text/markdown": [
       "#### What do the columns mean?\n",
       "| Column Name | Description | N Unique Values |\n",
       "| --- | --- | --- |\n",
       "| <b>name</b> | The name of the TV station IE \"WGBH\". | 8095 |\n",
       "| <b>state</b> | The two letter state abbreviation the media outlet is located in. | 55 |\n",
       "| <b>website</b> | The website of the media outlet exactly as we found it online. | 7345 |\n",
       "| <b>domain</b> | The domain that houses the media outlet. It is standardized (no \"www\" or \"http://\"). Sometimes multiple media outlets direct to the same domain (but seprate sub-domain). | 6296 |\n",
       "| <b>twitter</b> | The Twitter screen name of the news outlet. | 3632 |\n",
       "| <b>youtube</b> | The URL to the media outlet's YouTube presence. | 2220 |\n",
       "| <b>facebook</b> | The URL to the media outlet's Facebook presence. | 5093 |\n",
       "| <b>owner</b> | The corporate owner of the station. | 634 |\n",
       "| <b>medium</b> | Whether the news outlet is a newspaper, magazine, college newspater or a TV station | 4 |\n",
       "| <b>source</b> | Where was this record scraped from? | 8 |\n",
       "| <b>collection_date</b> | When was this record collected? | 4 |\n"
      ],
      "text/plain": [
       "<IPython.core.display.Markdown object>"
      ]
     },
     "metadata": {},
     "output_type": "display_data"
    },
    {
     "data": {
      "text/markdown": [],
      "text/plain": [
       "<IPython.core.display.Markdown object>"
      ]
     },
     "metadata": {},
     "output_type": "display_data"
    },
    {
     "data": {
      "text/markdown": [],
      "text/plain": [
       "<IPython.core.display.Markdown object>"
      ]
     },
     "metadata": {},
     "output_type": "display_data"
    },
    {
     "data": {
      "text/markdown": [
       "#### Breakdown of mediums in the Local News Dataset"
      ],
      "text/plain": [
       "<IPython.core.display.Markdown object>"
      ]
     },
     "metadata": {},
     "output_type": "display_data"
    },
    {
     "data": {
      "text/html": [
       "<div>\n",
       "<style scoped>\n",
       "    .dataframe tbody tr th:only-of-type {\n",
       "        vertical-align: middle;\n",
       "    }\n",
       "\n",
       "    .dataframe tbody tr th {\n",
       "        vertical-align: top;\n",
       "    }\n",
       "\n",
       "    .dataframe thead th {\n",
       "        text-align: right;\n",
       "    }\n",
       "</style>\n",
       "<table border=\"1\" class=\"dataframe\">\n",
       "  <thead>\n",
       "    <tr style=\"text-align: right;\">\n",
       "      <th></th>\n",
       "      <th>medium</th>\n",
       "    </tr>\n",
       "  </thead>\n",
       "  <tbody>\n",
       "    <tr>\n",
       "      <th>Newspapers</th>\n",
       "      <td>5336</td>\n",
       "    </tr>\n",
       "    <tr>\n",
       "      <th>TV station</th>\n",
       "      <td>2593</td>\n",
       "    </tr>\n",
       "    <tr>\n",
       "      <th>College Newspapers</th>\n",
       "      <td>480</td>\n",
       "    </tr>\n",
       "    <tr>\n",
       "      <th>Magazines</th>\n",
       "      <td>311</td>\n",
       "    </tr>\n",
       "  </tbody>\n",
       "</table>\n",
       "</div>"
      ],
      "text/plain": [
       "                    medium\n",
       "Newspapers            5336\n",
       "TV station            2593\n",
       "College Newspapers     480\n",
       "Magazines              311"
      ]
     },
     "metadata": {},
     "output_type": "display_data"
    },
    {
     "data": {
      "text/markdown": [],
      "text/plain": [
       "<IPython.core.display.Markdown object>"
      ]
     },
     "metadata": {},
     "output_type": "display_data"
    },
    {
     "data": {
      "text/markdown": [
       "#### Breakdown of data sources in the Local News Dataset"
      ],
      "text/plain": [
       "<IPython.core.display.Markdown object>"
      ]
     },
     "metadata": {},
     "output_type": "display_data"
    },
    {
     "data": {
      "text/html": [
       "<div>\n",
       "<style scoped>\n",
       "    .dataframe tbody tr th:only-of-type {\n",
       "        vertical-align: middle;\n",
       "    }\n",
       "\n",
       "    .dataframe tbody tr th {\n",
       "        vertical-align: top;\n",
       "    }\n",
       "\n",
       "    .dataframe thead th {\n",
       "        text-align: right;\n",
       "    }\n",
       "</style>\n",
       "<table border=\"1\" class=\"dataframe\">\n",
       "  <thead>\n",
       "    <tr style=\"text-align: right;\">\n",
       "      <th></th>\n",
       "      <th>source</th>\n",
       "    </tr>\n",
       "  </thead>\n",
       "  <tbody>\n",
       "    <tr>\n",
       "      <th>usnpl.com</th>\n",
       "      <td>6119</td>\n",
       "    </tr>\n",
       "    <tr>\n",
       "      <th>stationindex</th>\n",
       "      <td>1708</td>\n",
       "    </tr>\n",
       "    <tr>\n",
       "      <th>sbgi.net</th>\n",
       "      <td>611</td>\n",
       "    </tr>\n",
       "    <tr>\n",
       "      <th>nexstar.tv</th>\n",
       "      <td>177</td>\n",
       "    </tr>\n",
       "    <tr>\n",
       "      <th>tribunemedia.com</th>\n",
       "      <td>47</td>\n",
       "    </tr>\n",
       "    <tr>\n",
       "      <th>hearst.com</th>\n",
       "      <td>33</td>\n",
       "    </tr>\n",
       "    <tr>\n",
       "      <th>meridith.com</th>\n",
       "      <td>16</td>\n",
       "    </tr>\n",
       "    <tr>\n",
       "      <th>User Input</th>\n",
       "      <td>9</td>\n",
       "    </tr>\n",
       "  </tbody>\n",
       "</table>\n",
       "</div>"
      ],
      "text/plain": [
       "                  source\n",
       "usnpl.com           6119\n",
       "stationindex        1708\n",
       "sbgi.net             611\n",
       "nexstar.tv           177\n",
       "tribunemedia.com      47\n",
       "hearst.com            33\n",
       "meridith.com          16\n",
       "User Input             9"
      ]
     },
     "metadata": {},
     "output_type": "display_data"
    },
    {
     "data": {
      "text/markdown": [
       "The `User Input` entires are custom additions added from the contents of [this JSON file](https://github.com/yinleon/LocalNewsDataset/blob/master/data/custom_additions.json) and added to the dataset in `merge.py`"
      ],
      "text/plain": [
       "<IPython.core.display.Markdown object>"
      ]
     },
     "metadata": {},
     "output_type": "display_data"
    },
    {
     "data": {
      "text/markdown": [],
      "text/plain": [
       "<IPython.core.display.Markdown object>"
      ]
     },
     "metadata": {},
     "output_type": "display_data"
    },
    {
     "data": {
      "text/markdown": [
       "Below is an interactive [Plot.ly](https://plot.ly) chloropleth map of state-level representation in this dataset. Scroll over each state to get a counts (num stations) of the top mediums and owners."
      ],
      "text/plain": [
       "<IPython.core.display.Markdown object>"
      ]
     },
     "metadata": {},
     "output_type": "display_data"
    },
    {
     "ename": "PlotlyRequestError",
     "evalue": "Authentication credentials were not provided.",
     "output_type": "error",
     "traceback": [
      "\u001b[0;31m-----------------------------------------------------------------------\u001b[0m",
      "\u001b[0;31mPlotlyRequestError\u001b[0m                    Traceback (most recent call last)",
      "\u001b[0;32m<ipython-input-5-aba1662d1fc0>\u001b[0m in \u001b[0;36m<module>\u001b[0;34m\u001b[0m\n\u001b[1;32m      2\u001b[0m \u001b[0;32mfrom\u001b[0m \u001b[0mdocs\u001b[0m\u001b[0;34m.\u001b[0m\u001b[0mbuild_docs\u001b[0m \u001b[0;32mimport\u001b[0m \u001b[0;34m*\u001b[0m                      \u001b[0;31m# auto-generates docs\u001b[0m\u001b[0;34m\u001b[0m\u001b[0;34m\u001b[0m\u001b[0m\n\u001b[1;32m      3\u001b[0m \u001b[0mruntimestamp\u001b[0m\u001b[0;34m(\u001b[0m\u001b[0;34m'Leon'\u001b[0m\u001b[0;34m)\u001b[0m\u001b[0;34m\u001b[0m\u001b[0;34m\u001b[0m\u001b[0m\n\u001b[0;32m----> 4\u001b[0;31m \u001b[0mgenerate_docs\u001b[0m\u001b[0;34m(\u001b[0m\u001b[0;34m)\u001b[0m\u001b[0;34m\u001b[0m\u001b[0;34m\u001b[0m\u001b[0m\n\u001b[0m",
      "\u001b[0;32m~/Downloads/LocalNewsDataset/nbs/docs/build_docs.py\u001b[0m in \u001b[0;36mgenerate_docs\u001b[0;34m()\u001b[0m\n\u001b[1;32m    361\u001b[0m     \u001b[0mgenerate_docs_for_dataset\u001b[0m\u001b[0;34m(\u001b[0m\u001b[0moutput_docs\u001b[0m\u001b[0;34m,\u001b[0m \u001b[0mreturn_to_top\u001b[0m\u001b[0;34m=\u001b[0m\u001b[0;32mFalse\u001b[0m\u001b[0;34m)\u001b[0m\u001b[0;34m\u001b[0m\u001b[0;34m\u001b[0m\u001b[0m\n\u001b[1;32m    362\u001b[0m     \u001b[0msummary_stats\u001b[0m\u001b[0;34m(\u001b[0m\u001b[0;34m)\u001b[0m\u001b[0;34m\u001b[0m\u001b[0;34m\u001b[0m\u001b[0m\n\u001b[0;32m--> 363\u001b[0;31m     \u001b[0mchloropleth\u001b[0m\u001b[0;34m(\u001b[0m\u001b[0;34m)\u001b[0m\u001b[0;34m\u001b[0m\u001b[0;34m\u001b[0m\u001b[0m\n\u001b[0m\u001b[1;32m    364\u001b[0m \u001b[0;34m\u001b[0m\u001b[0m\n\u001b[1;32m    365\u001b[0m \u001b[0;34m\u001b[0m\u001b[0m\n",
      "\u001b[0;32m~/Downloads/LocalNewsDataset/nbs/docs/build_docs.py\u001b[0m in \u001b[0;36mchloropleth\u001b[0;34m()\u001b[0m\n\u001b[1;32m    333\u001b[0m \u001b[0;34m\u001b[0m\u001b[0m\n\u001b[1;32m    334\u001b[0m     \u001b[0mfig\u001b[0m \u001b[0;34m=\u001b[0m \u001b[0mdict\u001b[0m\u001b[0;34m(\u001b[0m \u001b[0mdata\u001b[0m\u001b[0;34m=\u001b[0m\u001b[0mdata\u001b[0m\u001b[0;34m,\u001b[0m \u001b[0mlayout\u001b[0m\u001b[0;34m=\u001b[0m\u001b[0mlayout\u001b[0m \u001b[0;34m)\u001b[0m\u001b[0;34m\u001b[0m\u001b[0;34m\u001b[0m\u001b[0m\n\u001b[0;32m--> 335\u001b[0;31m     \u001b[0mdisplay\u001b[0m\u001b[0;34m(\u001b[0m\u001b[0mpy\u001b[0m\u001b[0;34m.\u001b[0m\u001b[0miplot\u001b[0m\u001b[0;34m(\u001b[0m\u001b[0mfig\u001b[0m\u001b[0;34m,\u001b[0m \u001b[0mfilename\u001b[0m\u001b[0;34m=\u001b[0m\u001b[0;34m'local-news-dataset'\u001b[0m \u001b[0;34m)\u001b[0m\u001b[0;34m)\u001b[0m\u001b[0;34m\u001b[0m\u001b[0;34m\u001b[0m\u001b[0m\n\u001b[0m\u001b[1;32m    336\u001b[0m \u001b[0;34m\u001b[0m\u001b[0m\n\u001b[1;32m    337\u001b[0m \u001b[0;34m\u001b[0m\u001b[0m\n",
      "\u001b[0;32m/usr/local/lib/python3.9/site-packages/chart_studio/plotly/plotly.py\u001b[0m in \u001b[0;36miplot\u001b[0;34m(figure_or_data, **plot_options)\u001b[0m\n\u001b[1;32m    133\u001b[0m     \u001b[0;32mif\u001b[0m \u001b[0;34m\"auto_open\"\u001b[0m \u001b[0;32mnot\u001b[0m \u001b[0;32min\u001b[0m \u001b[0mplot_options\u001b[0m\u001b[0;34m:\u001b[0m\u001b[0;34m\u001b[0m\u001b[0;34m\u001b[0m\u001b[0m\n\u001b[1;32m    134\u001b[0m         \u001b[0mplot_options\u001b[0m\u001b[0;34m[\u001b[0m\u001b[0;34m\"auto_open\"\u001b[0m\u001b[0;34m]\u001b[0m \u001b[0;34m=\u001b[0m \u001b[0;32mFalse\u001b[0m\u001b[0;34m\u001b[0m\u001b[0;34m\u001b[0m\u001b[0m\n\u001b[0;32m--> 135\u001b[0;31m     \u001b[0murl\u001b[0m \u001b[0;34m=\u001b[0m \u001b[0mplot\u001b[0m\u001b[0;34m(\u001b[0m\u001b[0mfigure_or_data\u001b[0m\u001b[0;34m,\u001b[0m \u001b[0;34m**\u001b[0m\u001b[0mplot_options\u001b[0m\u001b[0;34m)\u001b[0m\u001b[0;34m\u001b[0m\u001b[0;34m\u001b[0m\u001b[0m\n\u001b[0m\u001b[1;32m    136\u001b[0m \u001b[0;34m\u001b[0m\u001b[0m\n\u001b[1;32m    137\u001b[0m     \u001b[0;32mif\u001b[0m \u001b[0misinstance\u001b[0m\u001b[0;34m(\u001b[0m\u001b[0mfigure_or_data\u001b[0m\u001b[0;34m,\u001b[0m \u001b[0mdict\u001b[0m\u001b[0;34m)\u001b[0m\u001b[0;34m:\u001b[0m\u001b[0;34m\u001b[0m\u001b[0;34m\u001b[0m\u001b[0m\n",
      "\u001b[0;32m/usr/local/lib/python3.9/site-packages/chart_studio/plotly/plotly.py\u001b[0m in \u001b[0;36mplot\u001b[0;34m(figure_or_data, validate, **plot_options)\u001b[0m\n\u001b[1;32m    274\u001b[0m             \u001b[0mgrid_filename\u001b[0m \u001b[0;34m=\u001b[0m \u001b[0mfilename\u001b[0m \u001b[0;34m+\u001b[0m \u001b[0;34m\"_grid\"\u001b[0m\u001b[0;34m\u001b[0m\u001b[0;34m\u001b[0m\u001b[0m\n\u001b[1;32m    275\u001b[0m \u001b[0;34m\u001b[0m\u001b[0m\n\u001b[0;32m--> 276\u001b[0;31m         grid_ops.upload(\n\u001b[0m\u001b[1;32m    277\u001b[0m             \u001b[0mgrid\u001b[0m\u001b[0;34m=\u001b[0m\u001b[0mgrid\u001b[0m\u001b[0;34m,\u001b[0m\u001b[0;34m\u001b[0m\u001b[0;34m\u001b[0m\u001b[0m\n\u001b[1;32m    278\u001b[0m             \u001b[0mfilename\u001b[0m\u001b[0;34m=\u001b[0m\u001b[0mgrid_filename\u001b[0m\u001b[0;34m,\u001b[0m\u001b[0;34m\u001b[0m\u001b[0;34m\u001b[0m\u001b[0m\n",
      "\u001b[0;32m/usr/local/lib/python3.9/site-packages/chart_studio/plotly/plotly.py\u001b[0m in \u001b[0;36mupload\u001b[0;34m(cls, grid, filename, world_readable, auto_open, meta)\u001b[0m\n\u001b[1;32m   1085\u001b[0m                 \u001b[0mpayload\u001b[0m\u001b[0;34m[\u001b[0m\u001b[0;34m\"parent_path\"\u001b[0m\u001b[0;34m]\u001b[0m \u001b[0;34m=\u001b[0m \u001b[0mparent_path\u001b[0m\u001b[0;34m\u001b[0m\u001b[0;34m\u001b[0m\u001b[0m\n\u001b[1;32m   1086\u001b[0m \u001b[0;34m\u001b[0m\u001b[0m\n\u001b[0;32m-> 1087\u001b[0;31m         \u001b[0mfile_info\u001b[0m \u001b[0;34m=\u001b[0m \u001b[0m_create_or_overwrite_grid\u001b[0m\u001b[0;34m(\u001b[0m\u001b[0mpayload\u001b[0m\u001b[0;34m)\u001b[0m\u001b[0;34m\u001b[0m\u001b[0;34m\u001b[0m\u001b[0m\n\u001b[0m\u001b[1;32m   1088\u001b[0m \u001b[0;34m\u001b[0m\u001b[0m\n\u001b[1;32m   1089\u001b[0m         \u001b[0mcols\u001b[0m \u001b[0;34m=\u001b[0m \u001b[0mfile_info\u001b[0m\u001b[0;34m[\u001b[0m\u001b[0;34m\"cols\"\u001b[0m\u001b[0;34m]\u001b[0m\u001b[0;34m\u001b[0m\u001b[0;34m\u001b[0m\u001b[0m\n",
      "\u001b[0;32m/usr/local/lib/python3.9/site-packages/chart_studio/plotly/plotly.py\u001b[0m in \u001b[0;36m_create_or_overwrite_grid\u001b[0;34m(data, max_retries)\u001b[0m\n\u001b[1;32m   1548\u001b[0m     \u001b[0;31m# Create file\u001b[0m\u001b[0;34m\u001b[0m\u001b[0;34m\u001b[0m\u001b[0;34m\u001b[0m\u001b[0m\n\u001b[1;32m   1549\u001b[0m     \u001b[0;32mtry\u001b[0m\u001b[0;34m:\u001b[0m\u001b[0;34m\u001b[0m\u001b[0;34m\u001b[0m\u001b[0m\n\u001b[0;32m-> 1550\u001b[0;31m         \u001b[0mres\u001b[0m \u001b[0;34m=\u001b[0m \u001b[0mapi_module\u001b[0m\u001b[0;34m.\u001b[0m\u001b[0mcreate\u001b[0m\u001b[0;34m(\u001b[0m\u001b[0mdata\u001b[0m\u001b[0;34m)\u001b[0m\u001b[0;34m\u001b[0m\u001b[0;34m\u001b[0m\u001b[0m\n\u001b[0m\u001b[1;32m   1551\u001b[0m     \u001b[0;32mexcept\u001b[0m \u001b[0mexceptions\u001b[0m\u001b[0;34m.\u001b[0m\u001b[0mPlotlyRequestError\u001b[0m \u001b[0;32mas\u001b[0m \u001b[0me\u001b[0m\u001b[0;34m:\u001b[0m\u001b[0;34m\u001b[0m\u001b[0;34m\u001b[0m\u001b[0m\n\u001b[1;32m   1552\u001b[0m         \u001b[0;32mif\u001b[0m \u001b[0mmax_retries\u001b[0m \u001b[0;34m>\u001b[0m \u001b[0;36m0\u001b[0m \u001b[0;32mand\u001b[0m \u001b[0;34m\"already exists\"\u001b[0m \u001b[0;32min\u001b[0m \u001b[0me\u001b[0m\u001b[0;34m.\u001b[0m\u001b[0mmessage\u001b[0m\u001b[0;34m:\u001b[0m\u001b[0;34m\u001b[0m\u001b[0;34m\u001b[0m\u001b[0m\n",
      "\u001b[0;32m/usr/local/lib/python3.9/site-packages/chart_studio/api/v2/grids.py\u001b[0m in \u001b[0;36mcreate\u001b[0;34m(body)\u001b[0m\n\u001b[1;32m     16\u001b[0m     \"\"\"\n\u001b[1;32m     17\u001b[0m     \u001b[0murl\u001b[0m \u001b[0;34m=\u001b[0m \u001b[0mbuild_url\u001b[0m\u001b[0;34m(\u001b[0m\u001b[0mRESOURCE\u001b[0m\u001b[0;34m)\u001b[0m\u001b[0;34m\u001b[0m\u001b[0;34m\u001b[0m\u001b[0m\n\u001b[0;32m---> 18\u001b[0;31m     \u001b[0;32mreturn\u001b[0m \u001b[0mrequest\u001b[0m\u001b[0;34m(\u001b[0m\u001b[0;34m\"post\"\u001b[0m\u001b[0;34m,\u001b[0m \u001b[0murl\u001b[0m\u001b[0;34m,\u001b[0m \u001b[0mjson\u001b[0m\u001b[0;34m=\u001b[0m\u001b[0mbody\u001b[0m\u001b[0;34m)\u001b[0m\u001b[0;34m\u001b[0m\u001b[0;34m\u001b[0m\u001b[0m\n\u001b[0m\u001b[1;32m     19\u001b[0m \u001b[0;34m\u001b[0m\u001b[0m\n\u001b[1;32m     20\u001b[0m \u001b[0;34m\u001b[0m\u001b[0m\n",
      "\u001b[0;32m/usr/local/lib/python3.9/site-packages/retrying.py\u001b[0m in \u001b[0;36mwrapped_f\u001b[0;34m(*args, **kw)\u001b[0m\n\u001b[1;32m     47\u001b[0m             \u001b[0;34m@\u001b[0m\u001b[0msix\u001b[0m\u001b[0;34m.\u001b[0m\u001b[0mwraps\u001b[0m\u001b[0;34m(\u001b[0m\u001b[0mf\u001b[0m\u001b[0;34m)\u001b[0m\u001b[0;34m\u001b[0m\u001b[0;34m\u001b[0m\u001b[0m\n\u001b[1;32m     48\u001b[0m             \u001b[0;32mdef\u001b[0m \u001b[0mwrapped_f\u001b[0m\u001b[0;34m(\u001b[0m\u001b[0;34m*\u001b[0m\u001b[0margs\u001b[0m\u001b[0;34m,\u001b[0m \u001b[0;34m**\u001b[0m\u001b[0mkw\u001b[0m\u001b[0;34m)\u001b[0m\u001b[0;34m:\u001b[0m\u001b[0;34m\u001b[0m\u001b[0;34m\u001b[0m\u001b[0m\n\u001b[0;32m---> 49\u001b[0;31m                 \u001b[0;32mreturn\u001b[0m \u001b[0mRetrying\u001b[0m\u001b[0;34m(\u001b[0m\u001b[0;34m*\u001b[0m\u001b[0mdargs\u001b[0m\u001b[0;34m,\u001b[0m \u001b[0;34m**\u001b[0m\u001b[0mdkw\u001b[0m\u001b[0;34m)\u001b[0m\u001b[0;34m.\u001b[0m\u001b[0mcall\u001b[0m\u001b[0;34m(\u001b[0m\u001b[0mf\u001b[0m\u001b[0;34m,\u001b[0m \u001b[0;34m*\u001b[0m\u001b[0margs\u001b[0m\u001b[0;34m,\u001b[0m \u001b[0;34m**\u001b[0m\u001b[0mkw\u001b[0m\u001b[0;34m)\u001b[0m\u001b[0;34m\u001b[0m\u001b[0;34m\u001b[0m\u001b[0m\n\u001b[0m\u001b[1;32m     50\u001b[0m \u001b[0;34m\u001b[0m\u001b[0m\n\u001b[1;32m     51\u001b[0m             \u001b[0;32mreturn\u001b[0m \u001b[0mwrapped_f\u001b[0m\u001b[0;34m\u001b[0m\u001b[0;34m\u001b[0m\u001b[0m\n",
      "\u001b[0;32m/usr/local/lib/python3.9/site-packages/retrying.py\u001b[0m in \u001b[0;36mcall\u001b[0;34m(self, fn, *args, **kwargs)\u001b[0m\n\u001b[1;32m    204\u001b[0m \u001b[0;34m\u001b[0m\u001b[0m\n\u001b[1;32m    205\u001b[0m             \u001b[0;32mif\u001b[0m \u001b[0;32mnot\u001b[0m \u001b[0mself\u001b[0m\u001b[0;34m.\u001b[0m\u001b[0mshould_reject\u001b[0m\u001b[0;34m(\u001b[0m\u001b[0mattempt\u001b[0m\u001b[0;34m)\u001b[0m\u001b[0;34m:\u001b[0m\u001b[0;34m\u001b[0m\u001b[0;34m\u001b[0m\u001b[0m\n\u001b[0;32m--> 206\u001b[0;31m                 \u001b[0;32mreturn\u001b[0m \u001b[0mattempt\u001b[0m\u001b[0;34m.\u001b[0m\u001b[0mget\u001b[0m\u001b[0;34m(\u001b[0m\u001b[0mself\u001b[0m\u001b[0;34m.\u001b[0m\u001b[0m_wrap_exception\u001b[0m\u001b[0;34m)\u001b[0m\u001b[0;34m\u001b[0m\u001b[0;34m\u001b[0m\u001b[0m\n\u001b[0m\u001b[1;32m    207\u001b[0m \u001b[0;34m\u001b[0m\u001b[0m\n\u001b[1;32m    208\u001b[0m             \u001b[0mdelay_since_first_attempt_ms\u001b[0m \u001b[0;34m=\u001b[0m \u001b[0mint\u001b[0m\u001b[0;34m(\u001b[0m\u001b[0mround\u001b[0m\u001b[0;34m(\u001b[0m\u001b[0mtime\u001b[0m\u001b[0;34m.\u001b[0m\u001b[0mtime\u001b[0m\u001b[0;34m(\u001b[0m\u001b[0;34m)\u001b[0m \u001b[0;34m*\u001b[0m \u001b[0;36m1000\u001b[0m\u001b[0;34m)\u001b[0m\u001b[0;34m)\u001b[0m \u001b[0;34m-\u001b[0m \u001b[0mstart_time\u001b[0m\u001b[0;34m\u001b[0m\u001b[0;34m\u001b[0m\u001b[0m\n",
      "\u001b[0;32m/usr/local/lib/python3.9/site-packages/retrying.py\u001b[0m in \u001b[0;36mget\u001b[0;34m(self, wrap_exception)\u001b[0m\n\u001b[1;32m    245\u001b[0m                 \u001b[0;32mraise\u001b[0m \u001b[0mRetryError\u001b[0m\u001b[0;34m(\u001b[0m\u001b[0mself\u001b[0m\u001b[0;34m)\u001b[0m\u001b[0;34m\u001b[0m\u001b[0;34m\u001b[0m\u001b[0m\n\u001b[1;32m    246\u001b[0m             \u001b[0;32melse\u001b[0m\u001b[0;34m:\u001b[0m\u001b[0;34m\u001b[0m\u001b[0;34m\u001b[0m\u001b[0m\n\u001b[0;32m--> 247\u001b[0;31m                 \u001b[0msix\u001b[0m\u001b[0;34m.\u001b[0m\u001b[0mreraise\u001b[0m\u001b[0;34m(\u001b[0m\u001b[0mself\u001b[0m\u001b[0;34m.\u001b[0m\u001b[0mvalue\u001b[0m\u001b[0;34m[\u001b[0m\u001b[0;36m0\u001b[0m\u001b[0;34m]\u001b[0m\u001b[0;34m,\u001b[0m \u001b[0mself\u001b[0m\u001b[0;34m.\u001b[0m\u001b[0mvalue\u001b[0m\u001b[0;34m[\u001b[0m\u001b[0;36m1\u001b[0m\u001b[0;34m]\u001b[0m\u001b[0;34m,\u001b[0m \u001b[0mself\u001b[0m\u001b[0;34m.\u001b[0m\u001b[0mvalue\u001b[0m\u001b[0;34m[\u001b[0m\u001b[0;36m2\u001b[0m\u001b[0;34m]\u001b[0m\u001b[0;34m)\u001b[0m\u001b[0;34m\u001b[0m\u001b[0;34m\u001b[0m\u001b[0m\n\u001b[0m\u001b[1;32m    248\u001b[0m         \u001b[0;32melse\u001b[0m\u001b[0;34m:\u001b[0m\u001b[0;34m\u001b[0m\u001b[0;34m\u001b[0m\u001b[0m\n\u001b[1;32m    249\u001b[0m             \u001b[0;32mreturn\u001b[0m \u001b[0mself\u001b[0m\u001b[0;34m.\u001b[0m\u001b[0mvalue\u001b[0m\u001b[0;34m\u001b[0m\u001b[0;34m\u001b[0m\u001b[0m\n",
      "\u001b[0;32m/usr/local/lib/python3.9/site-packages/six.py\u001b[0m in \u001b[0;36mreraise\u001b[0;34m(tp, value, tb)\u001b[0m\n\u001b[1;32m    701\u001b[0m             \u001b[0;32mif\u001b[0m \u001b[0mvalue\u001b[0m\u001b[0;34m.\u001b[0m\u001b[0m__traceback__\u001b[0m \u001b[0;32mis\u001b[0m \u001b[0;32mnot\u001b[0m \u001b[0mtb\u001b[0m\u001b[0;34m:\u001b[0m\u001b[0;34m\u001b[0m\u001b[0;34m\u001b[0m\u001b[0m\n\u001b[1;32m    702\u001b[0m                 \u001b[0;32mraise\u001b[0m \u001b[0mvalue\u001b[0m\u001b[0;34m.\u001b[0m\u001b[0mwith_traceback\u001b[0m\u001b[0;34m(\u001b[0m\u001b[0mtb\u001b[0m\u001b[0;34m)\u001b[0m\u001b[0;34m\u001b[0m\u001b[0;34m\u001b[0m\u001b[0m\n\u001b[0;32m--> 703\u001b[0;31m             \u001b[0;32mraise\u001b[0m \u001b[0mvalue\u001b[0m\u001b[0;34m\u001b[0m\u001b[0;34m\u001b[0m\u001b[0m\n\u001b[0m\u001b[1;32m    704\u001b[0m         \u001b[0;32mfinally\u001b[0m\u001b[0;34m:\u001b[0m\u001b[0;34m\u001b[0m\u001b[0;34m\u001b[0m\u001b[0m\n\u001b[1;32m    705\u001b[0m             \u001b[0mvalue\u001b[0m \u001b[0;34m=\u001b[0m \u001b[0;32mNone\u001b[0m\u001b[0;34m\u001b[0m\u001b[0;34m\u001b[0m\u001b[0m\n",
      "\u001b[0;32m/usr/local/lib/python3.9/site-packages/retrying.py\u001b[0m in \u001b[0;36mcall\u001b[0;34m(self, fn, *args, **kwargs)\u001b[0m\n\u001b[1;32m    198\u001b[0m         \u001b[0;32mwhile\u001b[0m \u001b[0;32mTrue\u001b[0m\u001b[0;34m:\u001b[0m\u001b[0;34m\u001b[0m\u001b[0;34m\u001b[0m\u001b[0m\n\u001b[1;32m    199\u001b[0m             \u001b[0;32mtry\u001b[0m\u001b[0;34m:\u001b[0m\u001b[0;34m\u001b[0m\u001b[0;34m\u001b[0m\u001b[0m\n\u001b[0;32m--> 200\u001b[0;31m                 \u001b[0mattempt\u001b[0m \u001b[0;34m=\u001b[0m \u001b[0mAttempt\u001b[0m\u001b[0;34m(\u001b[0m\u001b[0mfn\u001b[0m\u001b[0;34m(\u001b[0m\u001b[0;34m*\u001b[0m\u001b[0margs\u001b[0m\u001b[0;34m,\u001b[0m \u001b[0;34m**\u001b[0m\u001b[0mkwargs\u001b[0m\u001b[0;34m)\u001b[0m\u001b[0;34m,\u001b[0m \u001b[0mattempt_number\u001b[0m\u001b[0;34m,\u001b[0m \u001b[0;32mFalse\u001b[0m\u001b[0;34m)\u001b[0m\u001b[0;34m\u001b[0m\u001b[0;34m\u001b[0m\u001b[0m\n\u001b[0m\u001b[1;32m    201\u001b[0m             \u001b[0;32mexcept\u001b[0m\u001b[0;34m:\u001b[0m\u001b[0;34m\u001b[0m\u001b[0;34m\u001b[0m\u001b[0m\n\u001b[1;32m    202\u001b[0m                 \u001b[0mtb\u001b[0m \u001b[0;34m=\u001b[0m \u001b[0msys\u001b[0m\u001b[0;34m.\u001b[0m\u001b[0mexc_info\u001b[0m\u001b[0;34m(\u001b[0m\u001b[0;34m)\u001b[0m\u001b[0;34m\u001b[0m\u001b[0;34m\u001b[0m\u001b[0m\n",
      "\u001b[0;32m/usr/local/lib/python3.9/site-packages/chart_studio/api/v2/utils.py\u001b[0m in \u001b[0;36mrequest\u001b[0;34m(method, url, **kwargs)\u001b[0m\n\u001b[1;32m    178\u001b[0m         \u001b[0mcontent\u001b[0m \u001b[0;34m=\u001b[0m \u001b[0mresponse\u001b[0m\u001b[0;34m.\u001b[0m\u001b[0mcontent\u001b[0m \u001b[0;32mif\u001b[0m \u001b[0mresponse\u001b[0m \u001b[0;32melse\u001b[0m \u001b[0;34m\"No content\"\u001b[0m\u001b[0;34m\u001b[0m\u001b[0;34m\u001b[0m\u001b[0m\n\u001b[1;32m    179\u001b[0m         \u001b[0;32mraise\u001b[0m \u001b[0mexceptions\u001b[0m\u001b[0;34m.\u001b[0m\u001b[0mPlotlyRequestError\u001b[0m\u001b[0;34m(\u001b[0m\u001b[0mmessage\u001b[0m\u001b[0;34m,\u001b[0m \u001b[0mstatus_code\u001b[0m\u001b[0;34m,\u001b[0m \u001b[0mcontent\u001b[0m\u001b[0;34m)\u001b[0m\u001b[0;34m\u001b[0m\u001b[0;34m\u001b[0m\u001b[0m\n\u001b[0;32m--> 180\u001b[0;31m     \u001b[0mvalidate_response\u001b[0m\u001b[0;34m(\u001b[0m\u001b[0mresponse\u001b[0m\u001b[0;34m)\u001b[0m\u001b[0;34m\u001b[0m\u001b[0;34m\u001b[0m\u001b[0m\n\u001b[0m\u001b[1;32m    181\u001b[0m     \u001b[0;32mreturn\u001b[0m \u001b[0mresponse\u001b[0m\u001b[0;34m\u001b[0m\u001b[0;34m\u001b[0m\u001b[0m\n",
      "\u001b[0;32m/usr/local/lib/python3.9/site-packages/chart_studio/api/v2/utils.py\u001b[0m in \u001b[0;36mvalidate_response\u001b[0;34m(response)\u001b[0m\n\u001b[1;32m     80\u001b[0m         \u001b[0mmessage\u001b[0m \u001b[0;34m=\u001b[0m \u001b[0mcontent\u001b[0m \u001b[0;32mif\u001b[0m \u001b[0mcontent\u001b[0m \u001b[0;32melse\u001b[0m \u001b[0;34m\"No Content\"\u001b[0m\u001b[0;34m\u001b[0m\u001b[0;34m\u001b[0m\u001b[0m\n\u001b[1;32m     81\u001b[0m \u001b[0;34m\u001b[0m\u001b[0m\n\u001b[0;32m---> 82\u001b[0;31m     \u001b[0;32mraise\u001b[0m \u001b[0mexceptions\u001b[0m\u001b[0;34m.\u001b[0m\u001b[0mPlotlyRequestError\u001b[0m\u001b[0;34m(\u001b[0m\u001b[0mmessage\u001b[0m\u001b[0;34m,\u001b[0m \u001b[0mstatus_code\u001b[0m\u001b[0;34m,\u001b[0m \u001b[0mcontent\u001b[0m\u001b[0;34m)\u001b[0m\u001b[0;34m\u001b[0m\u001b[0;34m\u001b[0m\u001b[0m\n\u001b[0m\u001b[1;32m     83\u001b[0m \u001b[0;34m\u001b[0m\u001b[0m\n\u001b[1;32m     84\u001b[0m \u001b[0;34m\u001b[0m\u001b[0m\n",
      "\u001b[0;31mPlotlyRequestError\u001b[0m: Authentication credentials were not provided."
     ]
    }
   ],
   "source": [
    "from runtimestamp.runtimestamp import runtimestamp # for reproducibility\n",
    "from docs.build_docs import *                      # auto-generates docs\n",
    "runtimestamp('Leon')\n",
    "generate_docs()"
   ]
  },
  {
   "cell_type": "markdown",
   "metadata": {},
   "source": [
    "# 3. Using the Dataset <a name='use'></a>\n",
    "Below is some starter code in Python to read the Local News Dataset from the web into a Pandas Dataframe.\n",
    "\n",
    "[Top of Notebook](#top)"
   ]
  },
  {
   "cell_type": "code",
   "execution_count": null,
   "metadata": {},
   "outputs": [],
   "source": [
    "url = 'https://raw.githubusercontent.com/yinleon/LocalNewsDataset/master/data/local_news_dataset_2018.csv'\n",
    "df_local = pd.read_csv(url)"
   ]
  },
  {
   "cell_type": "markdown",
   "metadata": {},
   "source": [
    "If you want to use this dataset for a list of web domains, there are a few steps you'll need to take:"
   ]
  },
  {
   "cell_type": "code",
   "execution_count": null,
   "metadata": {},
   "outputs": [],
   "source": [
    "df_local_website.to_csv('../data/local_news_dataset_2018_for_domain_analysis.csv', index=False)"
   ]
  },
  {
   "cell_type": "code",
   "execution_count": null,
   "metadata": {},
   "outputs": [],
   "source": [
    "df_local_website = df_local[(~df_local.domain.isnull()) &\n",
    "                             (df_local.domain != 'facebook.com') &\n",
    "                             (df_local.domain != 'google.com') &\n",
    "                             (df_local.domain != 'tumblr.com') &\n",
    "                             (df_local.domain != 'wordpress.com') &\n",
    "                             (df_local.domain != 'comettv.com')].drop_duplicates(subset=['domain'])"
   ]
  },
  {
   "cell_type": "markdown",
   "metadata": {},
   "source": [
    "We do these steps because some entries don't have websites, at least one listed website is Facebook pages, comet TV is a nationwide franchise, and some stations share the a website."
   ]
  },
  {
   "cell_type": "code",
   "execution_count": null,
   "metadata": {},
   "outputs": [],
   "source": [
    "df_local_website.sample(3, random_state=303)"
   ]
  },
  {
   "cell_type": "markdown",
   "metadata": {},
   "source": [
    "For convenience this filtered dataset is available here: `https://raw.githubusercontent.com/yinleon/LocalNewsDataset/master/data/local_news_dataset_2018_for_domain_analysis.csv`\n",
    "and also here:<br> `http://bit.ly/local_news_dataset_domains`"
   ]
  },
  {
   "cell_type": "code",
   "execution_count": null,
   "metadata": {},
   "outputs": [],
   "source": [
    "df_local_news_domain = pd.read_csv('http://bit.ly/local_news_dataset_domains')\n",
    "df_local_news_domain.head(2)"
   ]
  },
  {
   "cell_type": "markdown",
   "metadata": {},
   "source": [
    "If you want to get Twitter accounts for all local news stations in Kansas you can filter the dataset as follows:"
   ]
  },
  {
   "cell_type": "code",
   "execution_count": null,
   "metadata": {},
   "outputs": [],
   "source": [
    "twitter_ks = df_local[(~df_local.twitter.isnull()) & \n",
    "                      (df_local.state == 'KS')]\n",
    "twitter_ks.twitter.unique()"
   ]
  },
  {
   "cell_type": "markdown",
   "metadata": {},
   "source": [
    "We can also get an array of all domains affiliated with Sinclair:"
   ]
  },
  {
   "cell_type": "code",
   "execution_count": null,
   "metadata": {},
   "outputs": [],
   "source": [
    "sinclair_stations = df_local[df_local.owner == 'Sinclair'].domain.unique()\n",
    "sinclair_stations"
   ]
  },
  {
   "cell_type": "markdown",
   "metadata": {},
   "source": [
    "Stay tuned for more in-depth tutorials about how this dataset can be used!"
   ]
  },
  {
   "cell_type": "markdown",
   "metadata": {},
   "source": [
    "# 4. Data Sheet <a name='datasheet'></a>\n",
    "In the spirit of transparency and good documentation, I am going to answer some questions for datasets proposed in the recent paper [Datasheets for Datasets](https://arxiv.org/abs/1803.09010) by Timnit Gebru, Jamie Morgenstern, Briana Vecchione, Jennifer Wortman Vaughan, Hanna Wallach, Hal Daumeé III, Kate Crawford.\n",
    "\n",
    "[Top of Notebook](#top)\n",
    "\n",
    "### Motivation for Dataset Creation\n",
    "*Why was the dataset created? (e.g., were there specific\n",
    "tasks in mind, or a specific gap that needed to be filled?)*<br>\n",
    "This Dataset was created to study the role of state-level local news on Twitter.<br>\n",
    "We wanted to find users who follow both local news outlets and members of congress.<br>\n",
    "\n",
    "*What (other) tasks could the dataset be used for? Are\n",
    "there obvious tasks for which it should not be used?*<br>\n",
    "The dataset can be used to query other social media platforms for local news outlet's social feeds.<br>\n",
    "It can also serve as a list of state-level domains for link analysis. This is one use of this dataset in an uncoming report on the Internet Research Agency's use of links on Twitter.<br>\n",
    "\n",
    "I hope that this dataset might be of interest for researchers applying to the [Social Science One and Facebook RFP](https://socialscience.one/our-facebook-partnership).\n",
    "\n",
    "*Has the dataset been used for any tasks already? If so,\n",
    "where are the results so others can compare (e.g., links to\n",
    "published papers)?*<br>\n",
    "A study of IRA Twitter accounts sharing national, local, and junk news articles.\n",
    "\n",
    "*Who funded the creation of the dataset? If there is an\n",
    "associated grant, provide the grant number.*<br>\n",
    "The dataset was created by Leon Yin at the SMaPP Lab at NYU. For more information, please visit our [website](https://wp.nyu.edu/smapp/).\n",
    "\n",
    "### Dataset Composition\n",
    "*What are the instances? (that is, examples; e.g., documents,\n",
    "images, people, countries) Are there multiple types\n",
    "of instances? (e.g., movies, users, ratings; people, interactions\n",
    "between them; nodes, edges)*<br>\n",
    "Each instance is a local news outlet.\n",
    "\n",
    "\n",
    "*Are relationships between instances made explicit in\n",
    "the data (e.g., social network links, user/movie ratings, etc.)?\n",
    "How many instances of each type are there?*<br>\n",
    "We have relational links in this data, but that is up to you to make those connections. For counts, please refer to the spec sheet above.\n",
    "\n",
    "*What data does each instance consist of? “Raw” data\n",
    "(e.g., unprocessed text or images)? Features/attributes?*<br>\n",
    "Each instance is a scraped entity from a website. There are no images involved. The metadata fields regarding state, website, and social accounts are scraped from raw HTML.\n",
    "\n",
    "\n",
    "*Is there a label/target associated with instances? If the instances are related to people, are subpopulations identified\n",
    "(e.g., by age, gender, etc.) and what is their distribution?*<br>\n",
    "This is not a traditional supervised machine learning dataset.\n",
    "\n",
    "*Is everything included or does the data rely on external\n",
    "resources? (e.g., websites, tweets, datasets) If external\n",
    "resources, a) are there guarantees that they will exist, and\n",
    "remain constant, over time; b) is there an official archival\n",
    "version.*<br>\n",
    "The data relies of external sources! There are abolutely no guarentees that data to Twitter, Youtube, Facebook, the source websites (where data is scraped), or the destination websites (homepages for news outlets). \n",
    "\n",
    "Currently there are open source libraries -- like [TweePy](http://www.tweepy.org/), to query Twitter, and my collegue Megan Brown and I are about to release a Python wrapper for the Youtube Data API library.\n",
    "\n",
    "*Are there licenses, fees or rights associated with\n",
    "any of the data?*<br>\n",
    "This dataset is free to use. We're copying terms of use from [ProPublica](https://www.propublica.org/datastore/terms)<a name='terms'></a>:\n",
    "```\n",
    "In general, you may use this dataset under the following terms. However, there may be different terms included for some data sets. It is your responsibility to read carefully the specific terms included with the data you download or purchase from our website.\n",
    "\n",
    "You can’t republish the raw data in its entirety, or otherwise distribute the data (in whole or in part) on a stand-alone basis.\n",
    "You can’t change the data except to update or correct it.\n",
    "You can’t charge people money to look at the data, or sell advertising specifically against it.\n",
    "You can’t sub-license or resell the data to others.\n",
    "If you use the data for publication, you must cite Leon Yin and the SMaPP Lab. \n",
    "We do not guarantee the accuracy or completeness of the data. You acknowledge that the data may contain errors and omissions. \n",
    "We are not obligated to update the data, but in the event we do, you are solely responsible for checking our site for any updates.\n",
    "You will indemnify, hold harmless, and defend Leon Yin and the SMaPP Lab from and against any claims arising out of your use of the data.\n",
    "```\n",
    "\n",
    "### Data Collection Process\n",
    "*How was the data collected? (e.g., hardware apparatus/sensor,\n",
    "manual human curation, software program,\n",
    "software interface/API; how were these constructs/measures/methods\n",
    "validated?)*<br>\n",
    "The data was collected using 4 CPUs on the NYU HPC Prince Cluster. It was written using [custom code](https://github.com/yinleon/LocalNewsDataset/tree/master/py) that utilizes the requests, beautifulsoup, and Pandas Python libraries. For this reason no APIs are used to collect this data. Data was quality checked by exploring data in Jupyter Noteooks. It was compared to lists curated by [AbilityPR](https://www.agilitypr.com/resources/top-media-outlets/) of the top 10 newspapers by state.\n",
    "\n",
    "*Who was involved in the data collection process?*<br>\n",
    "This dataset was collected by Leon Yin.\n",
    "\n",
    "*Over what time-frame was the data collected?* <br>\n",
    "The `process_datetime` columns capture when datasets are collected. Initial development for this project began in April 2018.\n",
    "\n",
    "*How was the data associated with each instance acquired?*<br>\n",
    "Data is directly scraped from HTML, there is no inferred data. There is no information how the sources curate their websites-- especially TVstationindex.com and USNPL.com.\n",
    "\n",
    "*Does the dataset contain all possible instances?* <br>\n",
    "Ths is not a sample, but the best attempt at creating a comprehensive list.\n",
    "\n",
    "*Is there information missing from the dataset and why?* <br>\n",
    "News Outlets not listed in the websites we scrape, or the custom additions JSON are not included. We'll make attempt to take requests for additions and ammendments on GitHub with the intention of creating a website with a submission forum.\n",
    "\n",
    "*Are there any known errors, sources of noise, or redundancies\n",
    "in the data?*\n",
    "There are possible redundencies of news outlets occuring across the websites scraped. We have measures to drop duplicates, but if we missed any please submit an error in GitHub.\n",
    "\n",
    "### Data Preprocessing\n",
    "*What preprocessing/cleaning was done?* <br>\n",
    "Twitter Screen Names are extracted from URLs, states are parsed from raw HTML that usually contains a city name, there is no aggregation or engineered features.\n",
    "\n",
    "*Was the “raw” data saved in addition to the preprocessed/cleaned\n",
    "data?* <br>\n",
    "The raw HTML for each site is not provided (so changes in website UI's) will crash future collection. There are no warranties for this. However the intermediate files are saved, and thoroughly documented in the [tech specs](#specs) above.\n",
    "\n",
    "*Is the preprocessing software available?* <br>\n",
    "The dataset is a standard CSV, so any relevant open source software can be used.\n",
    "\n",
    "*Does this dataset collection/processing procedure\n",
    "achieve the motivation for creating the dataset stated\n",
    "in the first section of this datasheet?* <br>\n",
    "The addition of Twitter Screen names makes it possible to use this data for Twitter research. The inclusion of additional fields like website, other social media platforms (Facebook, Youtube) allows for additional applications\n",
    "\n",
    "\n",
    "### Dataset Distribution\n",
    "*How is the dataset distributed? (e.g., website, API, etc.;\n",
    "does the data have a DOI; is it archived redundantly?)* <br>\n",
    "The dataset is being hosted on GitHub at the moment. It does not have a DOI (if you have suggestions on how to get one please reach out!). There are plans to migrate the dataset to its own website.\n",
    "\n",
    "*When will the dataset be released/first distributed?* <br>\n",
    "August 2018.\n",
    "\n",
    "*What license (if any) is it distributed under?* <br>\n",
    "MIT\n",
    "\n",
    "*Are there any fees or access/export restrictions?* <br>\n",
    "Not while it is on GitHub, but if its migrated elsewhere that's possible.\n",
    "\n",
    "### Dataset Maintenance\n",
    "*Who is supporting/hosting/maintaining the dataset?* <br>\n",
    "The dataset is currently solely maintained by Leon Yin. This seems unsustainable, so if this project sparks an interest with you please reach out to me here: `data-smapp_lab at nyu dot edu`\n",
    "\n",
    "*Will the dataset be updated? How often and by whom?\n",
    "How will updates/revisions be documented and communicated\n",
    "(e.g., mailing list, GitHub)? Is there an erratum?*<br>\n",
    "The dataset can be updated locally by running the scripts in this repo. Ammendments to the hosted dataset will contain a separate filepath and URL, and be documented in the README.\n",
    "\n",
    "\n",
    "*If the dataset becomes obsolete how will this be communicated?*<br>\n",
    "If the dataset becomes obsolete, we'll make this clear in the README in the GitHub repository (or whereever it is being hosted).\n",
    "\n",
    "*Is there a repository to link to any/all papers/systems\n",
    "that use this dataset?*<br>\n",
    "There aren't any publications that use this dataset that are published. We'll keep a list on the README or the website.\n",
    "\n",
    "*If others want to extend/augment/build on this dataset,\n",
    "is there a mechanism for them to do so?* <br>\n",
    "Modifications can be made by adding records to the ammendments [JSON](https://github.com/yinleon/LocalNewsDataset/blob/master/data/custom_additions.json).\n",
    "\n",
    "### Legal & Ethical Considerations\n",
    "*If the dataset relates to people (e.g., their attributes) or\n",
    "was generated by people, were they informed about the\n",
    "data collection?* <br>\n",
    "This dataset has no people-level information. However we don't know anything about the people who generated the webpages that this dataset is built on.\n",
    "\n",
    "*Does the dataset contain information that might be considered\n",
    "sensitive or confidential?* <br>\n",
    "To my knowledge there is no personally identifiable information in this dataset.\n",
    "\n",
    "*Does the dataset contain information that might be considered\n",
    "inappropriate or offensive?* <br>\n",
    "I hope not!"
   ]
  },
  {
   "cell_type": "markdown",
   "metadata": {},
   "source": [
    "[Top of Notebook](#top)"
   ]
  }
 ],
 "metadata": {
  "kernelspec": {
   "display_name": "Python 3",
   "language": "python",
   "name": "python3"
  },
  "language_info": {
   "codemirror_mode": {
    "name": "ipython",
    "version": 3
   },
   "file_extension": ".py",
   "mimetype": "text/x-python",
   "name": "python",
   "nbconvert_exporter": "python",
   "pygments_lexer": "ipython3",
   "version": "3.9.1"
  }
 },
 "nbformat": 4,
 "nbformat_minor": 2
}
